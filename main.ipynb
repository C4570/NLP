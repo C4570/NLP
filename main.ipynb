{
 "cells": [
  {
   "cell_type": "markdown",
   "metadata": {},
   "source": [
    "# TUIA NLP 2024 TRABAJO PRÁCTICO 1\n",
    "\n",
    "**Materia:** Procesamiento del Lenguaje Natural (IA 4.2)\n",
    "\n",
    "**Año académico:** 2024\n",
    "\n",
    "**Período lectivo:** 1° cuatrimestre\n",
    "\n",
    "**Integrantes:**\n",
    "\n",
    "- Britos Julián Francisco\n",
    "- Moresco Brisa\n",
    "\n",
    "#### Objetivo\n",
    "\n",
    "El objetivo de este proyecto es desarrollar un programa que interactúe con el usuario para recomendar lecturas. \n",
    "\n",
    "#### Opciones principales\n",
    "\n",
    "El programa ofrecerá tres opciones principales:\n",
    "\n",
    "- Recomendación Directa: El programa preguntará al usuario \"¿Qué tienes ganas de leer hoy?\" y, mediante la clasificación de la respuesta, propondrá una lista de tres libros acordes a las temáticas mencionadas. Además, se detallará el autor, género y una breve reseña de cada libro que se recomienda descargar.\n",
    "\n",
    "- Elección por Autor: Si el usuario prefiere buscar por autor, el programa ofrecerá una lista de libros del autor especificado. En caso de que haya múltiples resultados, se basará en la similitud de los dos primeros resultados más relevantes, retornando dos títulos (con sus respectivas reseñas) del resultado más cercano y uno del segundo que se recomiendan para descargar. Si existen varios libros del mismo autor aleatorizar. \n",
    "\n",
    "- Elección por Género Literario: Similar a la búsqueda por autor, si el usuario elige buscar por género, el programa ofrecerá una lista de libros del género especificado. Aplicará la misma lógica de similitud para seleccionar y presentar los resultados.\n"
   ]
  },
  {
   "cell_type": "markdown",
   "metadata": {},
   "source": [
    "# Librerías"
   ]
  },
  {
   "cell_type": "code",
   "execution_count": 1,
   "metadata": {},
   "outputs": [],
   "source": [
    "# !pip install streamlit\n",
    "# !pip install requests\n",
    "# !pip install beautifulsoup4"
   ]
  },
  {
   "cell_type": "code",
   "execution_count": 2,
   "metadata": {},
   "outputs": [],
   "source": [
    "from bs4 import BeautifulSoup\n",
    "import requests\n",
    "from urllib.parse import urljoin\n",
    "import pandas as pd\n",
    "import os\n",
    "import ast\n",
    "import matplotlib.pyplot as plt\n",
    "import seaborn as sns"
   ]
  },
  {
   "cell_type": "markdown",
   "metadata": {},
   "source": [
    "# Obtención de datos y creación del dataset \n",
    "\n",
    "# **(NO EJECUTAR A MENOS QUE SE PIERDA EL DATASET)**"
   ]
  },
  {
   "cell_type": "code",
   "execution_count": 41,
   "metadata": {},
   "outputs": [],
   "source": [
    "url_base = \"https://ww3.lectulandia.com/\"\n",
    "response = requests.get(url_base)\n",
    "soup = BeautifulSoup(response.text, 'html.parser')\n",
    "\n",
    "# Encuentra el enlace relativo para la página de libros (/book/)\n",
    "link_element = soup.select_one('#site-navigation > ul > li:nth-child(2) > a')\n",
    "url_relativa = link_element['href']\n",
    "\n",
    "# Combina la URL base con el URL relativo para obtener un URL absoluto (https://ww3.lectulandia.com/book/)\n",
    "url_absoluta = urljoin(url_base, url_relativa)\n",
    "\n",
    "# Hacemos una solicitud a la url absoluta para obtener la página a la que apunta el enlace, es decir la pagina con todos los libros\n",
    "link_response = requests.get(url_absoluta)\n",
    "link_soup = BeautifulSoup(link_response.text, 'html.parser')\n",
    "\n",
    "# Crea la carpeta 'img' si aún no existe\n",
    "if not os.path.exists('img'):\n",
    "    os.makedirs('img')"
   ]
  },
  {
   "cell_type": "markdown",
   "metadata": {},
   "source": [
    "Primero, obtenemos cada página y cada libro en cada página. Luego obtenemos el título, género/s, autor/es, descripción y foto de cada libro. "
   ]
  },
  {
   "cell_type": "code",
   "execution_count": 37,
   "metadata": {},
   "outputs": [
    {
     "name": "stdout",
     "output_type": "stream",
     "text": [
      "https://ww3.lectulandia.com/book/page/1/ ✔️\n",
      "https://ww3.lectulandia.com/book/page/2/ ✔️\n",
      "https://ww3.lectulandia.com/book/page/3/ ✔️\n",
      "https://ww3.lectulandia.com/book/page/4/ ✔️\n",
      "https://ww3.lectulandia.com/book/page/5/ ✔️\n",
      "https://ww3.lectulandia.com/book/page/6/ ✔️\n",
      "https://ww3.lectulandia.com/book/page/7/ ✔️\n",
      "https://ww3.lectulandia.com/book/page/8/ ✔️\n",
      "https://ww3.lectulandia.com/book/page/9/ ✔️\n",
      "https://ww3.lectulandia.com/book/page/10/ ✔️\n",
      "https://ww3.lectulandia.com/book/page/11/ ✔️\n",
      "https://ww3.lectulandia.com/book/page/12/ ✔️\n",
      "https://ww3.lectulandia.com/book/page/13/ ✔️\n",
      "https://ww3.lectulandia.com/book/page/14/ ✔️\n",
      "https://ww3.lectulandia.com/book/page/15/ ✔️\n",
      "https://ww3.lectulandia.com/book/page/16/ ✔️\n",
      "https://ww3.lectulandia.com/book/page/17/ ✔️\n",
      "https://ww3.lectulandia.com/book/page/18/ ✔️\n",
      "https://ww3.lectulandia.com/book/page/19/ ✔️\n",
      "https://ww3.lectulandia.com/book/page/20/ ✔️\n",
      "https://ww3.lectulandia.com/book/page/21/ ✔️\n",
      "https://ww3.lectulandia.com/book/page/22/ ✔️\n",
      "https://ww3.lectulandia.com/book/page/23/ ✔️\n",
      "https://ww3.lectulandia.com/book/page/24/ ✔️\n",
      "https://ww3.lectulandia.com/book/page/25/ ✔️\n",
      "https://ww3.lectulandia.com/book/page/26/ ✔️\n",
      "https://ww3.lectulandia.com/book/page/27/ ✔️\n",
      "https://ww3.lectulandia.com/book/page/28/ ✔️\n",
      "https://ww3.lectulandia.com/book/page/29/ ✔️\n",
      "https://ww3.lectulandia.com/book/page/30/ ✔️\n",
      "https://ww3.lectulandia.com/book/page/31/ ✔️\n",
      "https://ww3.lectulandia.com/book/page/32/ ✔️\n",
      "https://ww3.lectulandia.com/book/page/33/ ✔️\n",
      "https://ww3.lectulandia.com/book/page/34/ ✔️\n",
      "https://ww3.lectulandia.com/book/page/35/ ✔️\n",
      "https://ww3.lectulandia.com/book/page/36/ ✔️\n",
      "https://ww3.lectulandia.com/book/page/37/ ✔️\n",
      "https://ww3.lectulandia.com/book/page/38/ ✔️\n",
      "https://ww3.lectulandia.com/book/page/39/ ✔️\n",
      "https://ww3.lectulandia.com/book/page/40/ ✔️\n",
      "https://ww3.lectulandia.com/book/page/41/ ✔️\n",
      "https://ww3.lectulandia.com/book/page/42/ ✔️\n",
      "https://ww3.lectulandia.com/book/page/43/ ✔️\n",
      "https://ww3.lectulandia.com/book/page/44/ ✔️\n",
      "https://ww3.lectulandia.com/book/page/45/ ✔️\n",
      "https://ww3.lectulandia.com/book/page/46/ ✔️\n",
      "https://ww3.lectulandia.com/book/page/47/ ✔️\n",
      "https://ww3.lectulandia.com/book/page/48/ ✔️\n",
      "https://ww3.lectulandia.com/book/page/49/ ✔️\n",
      "https://ww3.lectulandia.com/book/page/50/ ✔️\n"
     ]
    }
   ],
   "source": [
    "# Establecemos el número de páginas que queremos recorrer.\n",
    "n_pags = 50 # No puede ser menor a 1, ya que la página principal cuenta como la primera página.\n",
    "\n",
    "# Creamos una lista vacía para almacenar nuestros datos.\n",
    "data = []\n",
    "\n",
    "for i in range(1, n_pags + 1):\n",
    "    # Hacemos una solicitud a la url de la página i.    \n",
    "    link_response = requests.get(url_absoluta + f'page/{i}/')\n",
    "    link_soup = BeautifulSoup(link_response.text, 'html.parser')\n",
    "    \n",
    "    # Iteramos sobre cada libro en la página.\n",
    "    for libro in link_soup.select('article.card'):\n",
    "        # Extrae el url de cada libro de la página i.\n",
    "        url_relativa_libro = libro.select_one('h2 > a.title').get('href')\n",
    "        # Combina la URL base con el URL relativo para obtener un URL absoluto (https://ww3.lectulandia.com/book/libro-de-ejemplo-1)\n",
    "        url_absoluta_libro = urljoin(url_base, url_relativa_libro)\n",
    "        # Imprimimos el url de cada libro.\n",
    "        #print(f'url: {url_absoluta_libro}')\n",
    "        # Creamos una lista con los urls de los libros y añadimos el url de cada libro a la lista.\n",
    "        url_absoluta_libros = []\n",
    "        url_absoluta_libros.append(url_absoluta_libro)\n",
    "        # Hacemos una solicitud a la url de cada libro.\n",
    "        libro_response = requests.get(url_absoluta_libro)\n",
    "        libro_soup = BeautifulSoup(libro_response.text, 'html.parser')\n",
    "        \n",
    "        # Extraemos el título de cada libro.\n",
    "        titulo = libro_soup.find(id='title').find('h1').text\n",
    "        #print(f'Titulo: {titulo}')\n",
    "\n",
    "        # Extraemos el autor de cada libro.\n",
    "        autores_elements = libro_soup.find(id='autor').find_all('a')\n",
    "        x_autores = [autor.text for autor in autores_elements]\n",
    "        #print(f'Autores:\\n   {x_autores}')\n",
    "        # Creamos una lista con los autores de los libros y añadimos el autor de cada libro a la lista.\n",
    "        autores = []\n",
    "        autores.append(x_autores)\n",
    "    \n",
    "        # Extraemos el género de cada libro.\n",
    "        generos_elements = libro_soup.find(id='genero').find_all('a')\n",
    "        x_generos = [genero.text for genero in generos_elements]\n",
    "        #print(f'Generos:\\n   {x_generos}')\n",
    "        # Creamos una lista con los géneros de los libros y añadimos el género de cada libro a la lista.\n",
    "        generos = []\n",
    "        generos.append(x_generos)\n",
    "\n",
    "        # Extraemos la sinopsis de cada libro.\n",
    "        sinopsis_element = libro_soup.find('div', class_='realign', id='sinopsis')\n",
    "        if sinopsis_element is not None:\n",
    "            span_element = sinopsis_element.find('span')\n",
    "            if span_element is not None:\n",
    "                sinopsis = span_element.text\n",
    "            else:\n",
    "                sinopsis = ''\n",
    "        else:\n",
    "            sinopsis = ''\n",
    "        #print(sinopsis_element)\n",
    "        #print(f'Sinopsis:\\n   {sinopsis}')\n",
    "        # Creamos una lista con las sinopsis de los libros y añadimos la sinopsis de cada libro a la lista.\n",
    "        sinopsis_libros = []\n",
    "        sinopsis_libros.append(sinopsis)\n",
    "\n",
    "        # Descargamos la imagen de cada libro.\n",
    "        img_url = libro_soup.find(id='cover').find('img').get('src')\n",
    "        img_response = requests.get(img_url)\n",
    "        img = img_response.content\n",
    "        # Limpiamos el título para que no contenga caracteres no permitidos en un nombre de archivo.\n",
    "        titulo_limpio = titulo.replace(' ', '_').replace(':', '').replace('/', '_').replace('?', '')\n",
    "        # Guardamos la imagen en un archivo en la carpeta 'img'.\n",
    "        with open(f'img/{titulo_limpio}.jpg', 'wb') as file:\n",
    "            file.write(img)\n",
    "        #print(f'Imagen guardada en img/{titulo_limpio}.jpg')\n",
    "\n",
    "        data.append({\n",
    "            'Titulo': titulo,\n",
    "            'Autor': autores,\n",
    "            'Genero': generos,\n",
    "            'Descripcion': sinopsis\n",
    "            })\n",
    "        \n",
    "    print(url_absoluta + f'page/{i}/ ✔️')\n",
    "\n",
    "        \n",
    "libros = pd.DataFrame(data)"
   ]
  },
  {
   "cell_type": "code",
   "execution_count": 38,
   "metadata": {},
   "outputs": [],
   "source": [
    "# Recorremos cada columna del DataFrame y, si el valor en esa columna es una lista con al menos un elemento, lo reemplazará con el primer elemento de la lista. Si el valor no es una lista o es una lista vacía, se mantendrá como está.\n",
    "for column in libros.columns:\n",
    "    libros[column] = libros[column].apply(lambda x: x[0] if isinstance(x, list) and len(x) > 0 else x)"
   ]
  },
  {
   "cell_type": "code",
   "execution_count": 12,
   "metadata": {},
   "outputs": [],
   "source": [
    "libros.to_csv('Libros.csv', index=False)"
   ]
  },
  {
   "cell_type": "code",
   "execution_count": 10,
   "metadata": {},
   "outputs": [
    {
     "data": {
      "text/html": [
       "<div>\n",
       "<style scoped>\n",
       "    .dataframe tbody tr th:only-of-type {\n",
       "        vertical-align: middle;\n",
       "    }\n",
       "\n",
       "    .dataframe tbody tr th {\n",
       "        vertical-align: top;\n",
       "    }\n",
       "\n",
       "    .dataframe thead th {\n",
       "        text-align: right;\n",
       "    }\n",
       "</style>\n",
       "<table border=\"1\" class=\"dataframe\">\n",
       "  <thead>\n",
       "    <tr style=\"text-align: right;\">\n",
       "      <th></th>\n",
       "      <th>Titulo</th>\n",
       "      <th>Autor</th>\n",
       "      <th>Genero</th>\n",
       "      <th>Descripcion</th>\n",
       "    </tr>\n",
       "  </thead>\n",
       "  <tbody>\n",
       "    <tr>\n",
       "      <th>0</th>\n",
       "      <td>Le dedico mi silencio</td>\n",
       "      <td>[Mario Vargas Llosa]</td>\n",
       "      <td>[Drama, Novela]</td>\n",
       "      <td>La historia de un hombre que soñó un país unid...</td>\n",
       "    </tr>\n",
       "    <tr>\n",
       "      <th>1</th>\n",
       "      <td>Mentideros de la memoria</td>\n",
       "      <td>[Gonzalo Celorio]</td>\n",
       "      <td>[Histórico, Novela]</td>\n",
       "      <td>Entre la ficción y el testimonio, el ensayo y ...</td>\n",
       "    </tr>\n",
       "    <tr>\n",
       "      <th>2</th>\n",
       "      <td>¡A mí me lo vas a contar!</td>\n",
       "      <td>[Daniel de la Peña]</td>\n",
       "      <td>[Erótico, Humor, Novela, Romántico]</td>\n",
       "      <td>Cuando el destino se empeña en poner en tu cam...</td>\n",
       "    </tr>\n",
       "    <tr>\n",
       "      <th>3</th>\n",
       "      <td>Identidad oculta</td>\n",
       "      <td>[Eugeni Verdú]</td>\n",
       "      <td>[Intriga, Novela]</td>\n",
       "      <td>UN THRILLER POLICIACO QUE NOS SUMERGE EN EL LA...</td>\n",
       "    </tr>\n",
       "    <tr>\n",
       "      <th>4</th>\n",
       "      <td>Vox y el Yunque</td>\n",
       "      <td>[Santiago Mata]</td>\n",
       "      <td>[Ensayo, Política]</td>\n",
       "      <td>Esta investigación se refiere a quienes se apo...</td>\n",
       "    </tr>\n",
       "    <tr>\n",
       "      <th>...</th>\n",
       "      <td>...</td>\n",
       "      <td>...</td>\n",
       "      <td>...</td>\n",
       "      <td>...</td>\n",
       "    </tr>\n",
       "    <tr>\n",
       "      <th>1195</th>\n",
       "      <td>Hija de la lluvia</td>\n",
       "      <td>[Haizea López]</td>\n",
       "      <td>[Intriga, Novela]</td>\n",
       "      <td>La maldición persigue a la familia Agirregoiti...</td>\n",
       "    </tr>\n",
       "    <tr>\n",
       "      <th>1196</th>\n",
       "      <td>Tiniebla</td>\n",
       "      <td>[Paul Kawczak]</td>\n",
       "      <td>[Drama, Novela]</td>\n",
       "      <td>Una mañana de septiembre de 1890, el topógrafo...</td>\n",
       "    </tr>\n",
       "    <tr>\n",
       "      <th>1197</th>\n",
       "      <td>Valió la pena</td>\n",
       "      <td>[Jorge Dezcallar de Mazarredo]</td>\n",
       "      <td>[Crónica, Memorias]</td>\n",
       "      <td>Jorge Dezcallar de Mazarredo quiso ser diplomá...</td>\n",
       "    </tr>\n",
       "    <tr>\n",
       "      <th>1198</th>\n",
       "      <td>Los Tres Gordinflones</td>\n",
       "      <td>[Yuri Olesha]</td>\n",
       "      <td>[Fantástico, Novela]</td>\n",
       "      <td>La solidaridad y la amistad serán las únicas f...</td>\n",
       "    </tr>\n",
       "    <tr>\n",
       "      <th>1199</th>\n",
       "      <td>Biblioteca Studio Ghibli: El viaje de Chihiro</td>\n",
       "      <td>[Marta García Villar]</td>\n",
       "      <td>[Arte, Cinematografía, Ensayo]</td>\n",
       "      <td>El viaje de Chihiro es la obra maestra de Stud...</td>\n",
       "    </tr>\n",
       "  </tbody>\n",
       "</table>\n",
       "<p>1200 rows × 4 columns</p>\n",
       "</div>"
      ],
      "text/plain": [
       "                                             Titulo  \\\n",
       "0                             Le dedico mi silencio   \n",
       "1                          Mentideros de la memoria   \n",
       "2                         ¡A mí me lo vas a contar!   \n",
       "3                                  Identidad oculta   \n",
       "4                                   Vox y el Yunque   \n",
       "...                                             ...   \n",
       "1195                              Hija de la lluvia   \n",
       "1196                                       Tiniebla   \n",
       "1197                                  Valió la pena   \n",
       "1198                          Los Tres Gordinflones   \n",
       "1199  Biblioteca Studio Ghibli: El viaje de Chihiro   \n",
       "\n",
       "                               Autor                               Genero  \\\n",
       "0               [Mario Vargas Llosa]                      [Drama, Novela]   \n",
       "1                  [Gonzalo Celorio]                  [Histórico, Novela]   \n",
       "2                [Daniel de la Peña]  [Erótico, Humor, Novela, Romántico]   \n",
       "3                     [Eugeni Verdú]                    [Intriga, Novela]   \n",
       "4                    [Santiago Mata]                   [Ensayo, Política]   \n",
       "...                              ...                                  ...   \n",
       "1195                  [Haizea López]                    [Intriga, Novela]   \n",
       "1196                  [Paul Kawczak]                      [Drama, Novela]   \n",
       "1197  [Jorge Dezcallar de Mazarredo]                  [Crónica, Memorias]   \n",
       "1198                   [Yuri Olesha]                 [Fantástico, Novela]   \n",
       "1199           [Marta García Villar]       [Arte, Cinematografía, Ensayo]   \n",
       "\n",
       "                                            Descripcion  \n",
       "0     La historia de un hombre que soñó un país unid...  \n",
       "1     Entre la ficción y el testimonio, el ensayo y ...  \n",
       "2     Cuando el destino se empeña en poner en tu cam...  \n",
       "3     UN THRILLER POLICIACO QUE NOS SUMERGE EN EL LA...  \n",
       "4     Esta investigación se refiere a quienes se apo...  \n",
       "...                                                 ...  \n",
       "1195  La maldición persigue a la familia Agirregoiti...  \n",
       "1196  Una mañana de septiembre de 1890, el topógrafo...  \n",
       "1197  Jorge Dezcallar de Mazarredo quiso ser diplomá...  \n",
       "1198  La solidaridad y la amistad serán las únicas f...  \n",
       "1199  El viaje de Chihiro es la obra maestra de Stud...  \n",
       "\n",
       "[1200 rows x 4 columns]"
      ]
     },
     "execution_count": 10,
     "metadata": {},
     "output_type": "execute_result"
    }
   ],
   "source": [
    "libros"
   ]
  },
  {
   "cell_type": "markdown",
   "metadata": {},
   "source": [
    "# Carga de datos"
   ]
  },
  {
   "cell_type": "code",
   "execution_count": 3,
   "metadata": {},
   "outputs": [],
   "source": [
    "file_path= 'Libros.csv'\n",
    "libros = pd.read_csv(file_path, sep=',',engine='python')\n",
    "\n",
    "# Convertir las cadenas de texto a listas\n",
    "libros['Genero'] = libros['Genero'].apply(ast.literal_eval)\n",
    "libros['Autor'] = libros['Autor'].apply(ast.literal_eval)"
   ]
  },
  {
   "cell_type": "markdown",
   "metadata": {},
   "source": [
    "# Análisis estadístico descriptivo"
   ]
  },
  {
   "cell_type": "markdown",
   "metadata": {},
   "source": [
    "## Visualización de datos"
   ]
  },
  {
   "cell_type": "code",
   "execution_count": 4,
   "metadata": {},
   "outputs": [
    {
     "data": {
      "text/html": [
       "<div>\n",
       "<style scoped>\n",
       "    .dataframe tbody tr th:only-of-type {\n",
       "        vertical-align: middle;\n",
       "    }\n",
       "\n",
       "    .dataframe tbody tr th {\n",
       "        vertical-align: top;\n",
       "    }\n",
       "\n",
       "    .dataframe thead th {\n",
       "        text-align: right;\n",
       "    }\n",
       "</style>\n",
       "<table border=\"1\" class=\"dataframe\">\n",
       "  <thead>\n",
       "    <tr style=\"text-align: right;\">\n",
       "      <th></th>\n",
       "      <th>Titulo</th>\n",
       "      <th>Autor</th>\n",
       "      <th>Genero</th>\n",
       "      <th>Descripcion</th>\n",
       "    </tr>\n",
       "  </thead>\n",
       "  <tbody>\n",
       "    <tr>\n",
       "      <th>0</th>\n",
       "      <td>Le dedico mi silencio</td>\n",
       "      <td>[Mario Vargas Llosa]</td>\n",
       "      <td>[Drama, Novela]</td>\n",
       "      <td>La historia de un hombre que soñó un país unid...</td>\n",
       "    </tr>\n",
       "    <tr>\n",
       "      <th>1</th>\n",
       "      <td>Mentideros de la memoria</td>\n",
       "      <td>[Gonzalo Celorio]</td>\n",
       "      <td>[Histórico, Novela]</td>\n",
       "      <td>Entre la ficción y el testimonio, el ensayo y ...</td>\n",
       "    </tr>\n",
       "    <tr>\n",
       "      <th>2</th>\n",
       "      <td>¡A mí me lo vas a contar!</td>\n",
       "      <td>[Daniel de la Peña]</td>\n",
       "      <td>[Erótico, Humor, Novela, Romántico]</td>\n",
       "      <td>Cuando el destino se empeña en poner en tu cam...</td>\n",
       "    </tr>\n",
       "    <tr>\n",
       "      <th>3</th>\n",
       "      <td>Identidad oculta</td>\n",
       "      <td>[Eugeni Verdú]</td>\n",
       "      <td>[Intriga, Novela]</td>\n",
       "      <td>UN THRILLER POLICIACO QUE NOS SUMERGE EN EL LA...</td>\n",
       "    </tr>\n",
       "    <tr>\n",
       "      <th>4</th>\n",
       "      <td>Vox y el Yunque</td>\n",
       "      <td>[Santiago Mata]</td>\n",
       "      <td>[Ensayo, Política]</td>\n",
       "      <td>Esta investigación se refiere a quienes se apo...</td>\n",
       "    </tr>\n",
       "  </tbody>\n",
       "</table>\n",
       "</div>"
      ],
      "text/plain": [
       "                      Titulo                 Autor  \\\n",
       "0      Le dedico mi silencio  [Mario Vargas Llosa]   \n",
       "1   Mentideros de la memoria     [Gonzalo Celorio]   \n",
       "2  ¡A mí me lo vas a contar!   [Daniel de la Peña]   \n",
       "3           Identidad oculta        [Eugeni Verdú]   \n",
       "4            Vox y el Yunque       [Santiago Mata]   \n",
       "\n",
       "                                Genero  \\\n",
       "0                      [Drama, Novela]   \n",
       "1                  [Histórico, Novela]   \n",
       "2  [Erótico, Humor, Novela, Romántico]   \n",
       "3                    [Intriga, Novela]   \n",
       "4                   [Ensayo, Política]   \n",
       "\n",
       "                                         Descripcion  \n",
       "0  La historia de un hombre que soñó un país unid...  \n",
       "1  Entre la ficción y el testimonio, el ensayo y ...  \n",
       "2  Cuando el destino se empeña en poner en tu cam...  \n",
       "3  UN THRILLER POLICIACO QUE NOS SUMERGE EN EL LA...  \n",
       "4  Esta investigación se refiere a quienes se apo...  "
      ]
     },
     "execution_count": 4,
     "metadata": {},
     "output_type": "execute_result"
    }
   ],
   "source": [
    "libros.head()"
   ]
  },
  {
   "cell_type": "code",
   "execution_count": 5,
   "metadata": {},
   "outputs": [
    {
     "data": {
      "text/plain": [
       "Titulo         0\n",
       "Autor          0\n",
       "Genero         0\n",
       "Descripcion    4\n",
       "dtype: int64"
      ]
     },
     "execution_count": 5,
     "metadata": {},
     "output_type": "execute_result"
    }
   ],
   "source": [
    "libros.isna().sum()"
   ]
  },
  {
   "cell_type": "markdown",
   "metadata": {},
   "source": [
    "Vemos que hay 4 sinopsis con valores nulos, es decir NaN, esto sabemos que se debe a que el formato HTML de la página de donde se extrajo el dataset todas las sinopsis están entre 'span', sin embargo, algunos libros tiene  el formato de su sinopsis mal hecho lo que hace que nuestro código no pueda detectar que exista esa sinopsis y no logremos guardarla. Sin embargo, esto no es un problema, ya que al tener tantos libros en nuestro dataset, podemos darnos el lujo de eliminar estos 4 y así evitar problemas futuros."
   ]
  },
  {
   "cell_type": "code",
   "execution_count": 26,
   "metadata": {},
   "outputs": [
    {
     "data": {
      "text/plain": [
       "Titulo         0\n",
       "Autor          0\n",
       "Genero         0\n",
       "Descripcion    0\n",
       "dtype: int64"
      ]
     },
     "execution_count": 26,
     "metadata": {},
     "output_type": "execute_result"
    }
   ],
   "source": [
    "libros = libros.dropna()\n",
    "libros.isna().sum()"
   ]
  },
  {
   "cell_type": "code",
   "execution_count": 27,
   "metadata": {},
   "outputs": [
    {
     "data": {
      "text/html": [
       "<div>\n",
       "<style scoped>\n",
       "    .dataframe tbody tr th:only-of-type {\n",
       "        vertical-align: middle;\n",
       "    }\n",
       "\n",
       "    .dataframe tbody tr th {\n",
       "        vertical-align: top;\n",
       "    }\n",
       "\n",
       "    .dataframe thead th {\n",
       "        text-align: right;\n",
       "    }\n",
       "</style>\n",
       "<table border=\"1\" class=\"dataframe\">\n",
       "  <thead>\n",
       "    <tr style=\"text-align: right;\">\n",
       "      <th></th>\n",
       "      <th>Titulo</th>\n",
       "      <th>Autor</th>\n",
       "      <th>Genero</th>\n",
       "      <th>Descripcion</th>\n",
       "    </tr>\n",
       "  </thead>\n",
       "  <tbody>\n",
       "    <tr>\n",
       "      <th>count</th>\n",
       "      <td>1196</td>\n",
       "      <td>1196</td>\n",
       "      <td>1196</td>\n",
       "      <td>1196</td>\n",
       "    </tr>\n",
       "    <tr>\n",
       "      <th>unique</th>\n",
       "      <td>1137</td>\n",
       "      <td>888</td>\n",
       "      <td>279</td>\n",
       "      <td>1134</td>\n",
       "    </tr>\n",
       "    <tr>\n",
       "      <th>top</th>\n",
       "      <td>Vuelve a amar tu caos y el roce de vivir</td>\n",
       "      <td>[Goretti Irisarri, Jose Gil Romero]</td>\n",
       "      <td>[Novela, Otros]</td>\n",
       "      <td>Nacido en la Misia oriental en 117, Elio Arist...</td>\n",
       "    </tr>\n",
       "    <tr>\n",
       "      <th>freq</th>\n",
       "      <td>2</td>\n",
       "      <td>11</td>\n",
       "      <td>68</td>\n",
       "      <td>5</td>\n",
       "    </tr>\n",
       "  </tbody>\n",
       "</table>\n",
       "</div>"
      ],
      "text/plain": [
       "                                          Titulo  \\\n",
       "count                                       1196   \n",
       "unique                                      1137   \n",
       "top     Vuelve a amar tu caos y el roce de vivir   \n",
       "freq                                           2   \n",
       "\n",
       "                                      Autor           Genero  \\\n",
       "count                                  1196             1196   \n",
       "unique                                  888              279   \n",
       "top     [Goretti Irisarri, Jose Gil Romero]  [Novela, Otros]   \n",
       "freq                                     11               68   \n",
       "\n",
       "                                              Descripcion  \n",
       "count                                                1196  \n",
       "unique                                               1134  \n",
       "top     Nacido en la Misia oriental en 117, Elio Arist...  \n",
       "freq                                                    5  "
      ]
     },
     "execution_count": 27,
     "metadata": {},
     "output_type": "execute_result"
    }
   ],
   "source": [
    "libros.describe()"
   ]
  },
  {
   "cell_type": "markdown",
   "metadata": {},
   "source": [
    "Aquí vemos cómo él describe nos muestra que existen  889 valores únicos para autores y  279  valores únicos para géneros, sin embargo, los libros al poder tener más de un autor o genero la solución que buscamos a la hora de crear el dataset fue ponerlos en listas y este formato es que puede causar que el 'describe' no esté realmente mostrando los valores únicos, ya que por ejemplo si tenemos ['Batalla', 'Novela'] y ['Novela'] el 'describe' tomará que hay dos géneros totales y dos géneros únicos cuando realmente hay 3 géneros totales, pero solamente 2 únicos para solucionar esto hacemos: "
   ]
  },
  {
   "cell_type": "code",
   "execution_count": 28,
   "metadata": {},
   "outputs": [
    {
     "data": {
      "text/plain": [
       "(72, 999)"
      ]
     },
     "execution_count": 28,
     "metadata": {},
     "output_type": "execute_result"
    }
   ],
   "source": [
    "generos_unicos = libros['Genero'].explode().unique()\n",
    "autores_unicos = libros['Autor'].explode().unique()\n",
    "generos_unicos.size, autores_unicos.size"
   ]
  },
  {
   "cell_type": "markdown",
   "metadata": {},
   "source": [
    "Ahora sí podemos ver cuantos géneros y autores existen realmente, siendo estos 72 y 1000 correspondientemente."
   ]
  },
  {
   "cell_type": "markdown",
   "metadata": {},
   "source": [
    "## Gráficos"
   ]
  },
  {
   "cell_type": "code",
   "execution_count": 23,
   "metadata": {},
   "outputs": [
    {
     "data": {
      "image/png": "[encoded data removed]",
      "text/plain": [
       "<Figure size 1000x500 with 1 Axes>"
      ]
     },
     "metadata": {},
     "output_type": "display_data"
    }
   ],
   "source": [
    "fig, axs = plt.subplots(figsize=(10, 5))\n",
    "\n",
    "# Histograma       creamos un dataframe con los generos de la sublista de generos de cada libro      \n",
    "sns.histplot(pd.DataFrame([genero for sublist in libros['Genero'] for genero in sublist], columns=['Genero'])['Genero'])\n",
    "axs.set_title('Histograma de Genero')\n",
    "axs.set_xlabel('Generos')\n",
    "axs.set_ylabel('Frecuencia')\n",
    "\n",
    "plt.xticks(rotation=90, fontsize=8)\n",
    "plt.tight_layout()\n",
    "plt.show()"
   ]
  },
  {
   "cell_type": "markdown",
   "metadata": {},
   "source": [
    "# Representación Vectorial de Texto"
   ]
  }
 ],
 "metadata": {
  "kernelspec": {
   "display_name": "Python 3",
   "language": "python",
   "name": "python3"
  },
  "language_info": {
   "codemirror_mode": {
    "name": "ipython",
    "version": 3
   },
   "file_extension": ".py",
   "mimetype": "text/x-python",
   "name": "python",
   "nbconvert_exporter": "python",
   "pygments_lexer": "ipython3",
   "version": "3.12.2"
  }
 },
 "nbformat": 4,
 "nbformat_minor": 2
}
