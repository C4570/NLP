{
  "cells": [
    {
      "cell_type": "markdown",
      "metadata": {
        "id": "YtQGiL_WML4B"
      },
      "source": [
        "# TUIA NLP 2024 TRABAJO PRÁCTICO 1\n",
        "\n",
        "**Materia:** Procesamiento del Lenguaje Natural (NLP)\n",
        "\n",
        "**Año académico:** 2024\n",
        "\n",
        "**Período lectivo:** 1° cuatrimestre\n",
        "\n",
        "**Integrantes:**\n",
        "\n",
        "- Britos Julián Francisco\n",
        "- Moresco Brisa\n",
        "\n",
        "#### Objetivo\n",
        "\n",
        "El objetivo de este proyecto es desarrollar un programa que interactúe con el usuario para recomendar lecturas.\n",
        "\n",
        "#### Opciones principales\n",
        "\n",
        "El programa ofrecerá tres opciones principales:\n",
        "\n",
        "- Recomendación Directa: El programa preguntará al usuario \"¿Qué tienes ganas de leer hoy?\" y, mediante la clasificación de la respuesta, propondrá una lista de tres libros acordes a las temáticas mencionadas. Además, se detallará el autor, género y una breve reseña de cada libro que se recomienda descargar.\n",
        "\n",
        "- Elección por Autor: Si el usuario prefiere buscar por autor, el programa ofrecerá una lista de libros del autor especificado. En caso de que haya múltiples resultados, se basará en la similitud de los dos primeros resultados más relevantes, retornando dos títulos (con sus respectivas reseñas) del resultado más cercano y uno del segundo que se recomiendan para descargar. Si existen varios libros del mismo autor aleatorizar.\n",
        "\n",
        "- Elección por Género Literario: Similar a la búsqueda por autor, si el usuario elige buscar por género, el programa ofrecerá una lista de libros del género especificado. Aplicará la misma lógica de similitud para seleccionar y presentar los resultados.\n"
      ]
    },
    {
      "cell_type": "markdown",
      "metadata": {
        "id": "Y-MYE8_cML4E"
      },
      "source": [
        "# Instalación de librerías"
      ]
    },
    {
      "cell_type": "code",
      "execution_count": 1,
      "metadata": {
        "id": "6zX7I4bBML4E"
      },
      "outputs": [],
      "source": [
        "%%capture\n",
        "!pip install requests\n",
        "!pip install beautifulsoup4\n",
        "!pip install transformers\n",
        "!pip install sentence-transformers\n",
        "!pip install levenshtein\n",
        "!pip install fuzzywuzzy"
      ]
    },
    {
      "cell_type": "markdown",
      "metadata": {
        "id": "6pbbwW5LML4F"
      },
      "source": [
        "# Obtención de datos y creación del dataset\n",
        "\n",
        "# **(NO EJECUTAR A MENOS QUE SE PIERDA EL DATASET)**"
      ]
    },
    {
      "cell_type": "code",
      "execution_count": null,
      "metadata": {
        "id": "aHaee8-BML4F"
      },
      "outputs": [],
      "source": [
        "from bs4 import BeautifulSoup\n",
        "import requests\n",
        "\n",
        "url_base = \"https://ww3.lectulandia.com/\"\n",
        "response = requests.get(url_base)\n",
        "soup = BeautifulSoup(response.text, 'html.parser')\n",
        "\n",
        "# Encuentra el enlace relativo para la página de libros (/book/)\n",
        "link_element = soup.select_one('#site-navigation > ul > li:nth-child(2) > a')\n",
        "url_relativa = link_element['href']"
      ]
    },
    {
      "cell_type": "code",
      "execution_count": null,
      "metadata": {
        "id": "p1FHeQ6-ML4G"
      },
      "outputs": [],
      "source": [
        "from urllib.parse import urljoin\n",
        "\n",
        "# Combina la URL base con el URL relativo para obtener un URL absoluto (https://ww3.lectulandia.com/book/)\n",
        "url_absoluta = urljoin(url_base, url_relativa)"
      ]
    },
    {
      "cell_type": "code",
      "execution_count": null,
      "metadata": {
        "id": "IYCojporML4G"
      },
      "outputs": [],
      "source": [
        "# Hacemos una solicitud a la url absoluta para obtener la página a la que apunta el enlace, es decir la pagina con todos los libros\n",
        "link_response = requests.get(url_absoluta)\n",
        "link_soup = BeautifulSoup(link_response.text, 'html.parser')"
      ]
    },
    {
      "cell_type": "code",
      "execution_count": null,
      "metadata": {
        "id": "z7HIsPmZML4G"
      },
      "outputs": [],
      "source": [
        "import os\n",
        "\n",
        "# Crea la carpeta 'img' si aún no existe\n",
        "if not os.path.exists('img'):\n",
        "    os.makedirs('img')"
      ]
    },
    {
      "cell_type": "markdown",
      "metadata": {
        "id": "lGcU0c88ML4G"
      },
      "source": [
        "Primero, obtenemos cada página y cada libro en cada página. Luego obtenemos el título, género/s, autor/es, descripción y foto de cada libro."
      ]
    },
    {
      "cell_type": "code",
      "execution_count": null,
      "metadata": {
        "id": "W-6yAY25ML4H"
      },
      "outputs": [],
      "source": [
        "# Establecemos el número de páginas que queremos recorrer.\n",
        "n_pags = 50 # No puede ser menor a 1, ya que la página principal cuenta como la primera página.\n",
        "\n",
        "# Creamos una lista vacía para almacenar nuestros datos.\n",
        "data = []\n",
        "\n",
        "for i in range(1, n_pags + 1):\n",
        "    # Hacemos una solicitud a la url de la página i.\n",
        "    link_response = requests.get(url_absoluta + f'page/{i}/')\n",
        "    link_soup = BeautifulSoup(link_response.text, 'html.parser')\n",
        "\n",
        "    # Iteramos sobre cada libro en la página.\n",
        "    for libro in link_soup.select('article.card'):\n",
        "        # Extrae el url de cada libro de la página i.\n",
        "        url_relativa_libro = libro.select_one('h2 > a.title').get('href')\n",
        "        # Combina la URL base con el URL relativo para obtener un URL absoluto (https://ww3.lectulandia.com/book/libro-de-ejemplo-1)\n",
        "        url_absoluta_libro = urljoin(url_base, url_relativa_libro)\n",
        "        # Imprimimos el url de cada libro.\n",
        "        #print(f'url: {url_absoluta_libro}')\n",
        "        # Creamos una lista con los urls de los libros y añadimos el url de cada libro a la lista.\n",
        "        url_absoluta_libros = []\n",
        "        url_absoluta_libros.append(url_absoluta_libro)\n",
        "        # Hacemos una solicitud a la url de cada libro.\n",
        "        libro_response = requests.get(url_absoluta_libro)\n",
        "        libro_soup = BeautifulSoup(libro_response.text, 'html.parser')\n",
        "\n",
        "        # Extraemos el título de cada libro.\n",
        "        titulo = libro_soup.find(id='title').find('h1').text\n",
        "        #print(f'Titulo: {titulo}')\n",
        "\n",
        "        # Extraemos el autor de cada libro.\n",
        "        autores_elements = libro_soup.find(id='autor').find_all('a')\n",
        "        x_autores = [autor.text for autor in autores_elements]\n",
        "        #print(f'Autores:\\n   {x_autores}')\n",
        "        # Creamos una lista con los autores de los libros y añadimos el autor de cada libro a la lista.\n",
        "        autores = []\n",
        "        autores.append(x_autores)\n",
        "\n",
        "        # Extraemos el género de cada libro.\n",
        "        generos_elements = libro_soup.find(id='genero').find_all('a')\n",
        "        x_generos = [genero.text for genero in generos_elements]\n",
        "        #print(f'Generos:\\n   {x_generos}')\n",
        "        # Creamos una lista con los géneros de los libros y añadimos el género de cada libro a la lista.\n",
        "        generos = []\n",
        "        generos.append(x_generos)\n",
        "\n",
        "        # Extraemos la sinopsis de cada libro.\n",
        "        sinopsis_element = libro_soup.find('div', class_='realign', id='sinopsis')\n",
        "        if sinopsis_element is not None:\n",
        "            span_element = sinopsis_element.find('span')\n",
        "            if span_element is not None:\n",
        "                sinopsis = span_element.text\n",
        "            else:\n",
        "                sinopsis = ''\n",
        "        else:\n",
        "            sinopsis = ''\n",
        "        #print(sinopsis_element)\n",
        "        #print(f'Sinopsis:\\n   {sinopsis}')\n",
        "        # Creamos una lista con las sinopsis de los libros y añadimos la sinopsis de cada libro a la lista.\n",
        "        sinopsis_libros = []\n",
        "        sinopsis_libros.append(sinopsis)\n",
        "\n",
        "        # Descargamos la imagen de cada libro.\n",
        "        img_url = libro_soup.find(id='cover').find('img').get('src')\n",
        "        img_response = requests.get(img_url)\n",
        "        img = img_response.content\n",
        "        # Limpiamos el título para que no contenga caracteres no permitidos en un nombre de archivo.\n",
        "        titulo_limpio = titulo.replace(' ', '_').replace(':', '').replace('/', '_').replace('?', '')\n",
        "        # Guardamos la imagen en un archivo en la carpeta 'img'.\n",
        "        with open(f'img/{titulo_limpio}.jpg', 'wb') as file:\n",
        "            file.write(img)\n",
        "        #print(f'Imagen guardada en img/{titulo_limpio}.jpg')\n",
        "\n",
        "        data.append({\n",
        "            'Titulo': titulo,\n",
        "            'Autor': autores,\n",
        "            'Genero': generos,\n",
        "            'Descripcion': sinopsis\n",
        "            })\n",
        "\n",
        "    print(url_absoluta + f'page/{i}/ ✔️')"
      ]
    },
    {
      "cell_type": "code",
      "execution_count": null,
      "metadata": {
        "id": "fz1pWLehML4I"
      },
      "outputs": [],
      "source": [
        "import pandas as pd\n",
        "\n",
        "libros = pd.DataFrame(data)"
      ]
    },
    {
      "cell_type": "code",
      "execution_count": null,
      "metadata": {
        "id": "z1InA0C6ML4I"
      },
      "outputs": [],
      "source": [
        "libros.head()"
      ]
    },
    {
      "cell_type": "code",
      "execution_count": null,
      "metadata": {
        "id": "SR-Pb1nFML4I"
      },
      "outputs": [],
      "source": [
        "# Recorremos cada columna del DataFrame y, si el valor en esa columna es una lista con al menos un elemento, lo reemplazará con el primer elemento de la lista. Si el valor no es una lista o es una lista vacía, se mantendrá como está.\n",
        "for column in libros.columns:\n",
        "    libros[column] = libros[column].apply(lambda x: x[0] if isinstance(x, list) and len(x) > 0 else x)"
      ]
    },
    {
      "cell_type": "code",
      "execution_count": null,
      "metadata": {
        "id": "B3bfnnbuML4I"
      },
      "outputs": [],
      "source": [
        "libros.head()"
      ]
    },
    {
      "cell_type": "markdown",
      "metadata": {
        "id": "Lmvxr_T0ML4I"
      },
      "source": [
        "Guardamos los datos en un dataset en formato Parquet, ya que Apache Parquet se basa en una representación de datos en columnas comprimidas, lo que lo hace muy eficiente para consultas analíticas que involucran grandes cantidades de datos, en comparación con otros formatos como CSV."
      ]
    },
    {
      "cell_type": "code",
      "execution_count": null,
      "metadata": {
        "id": "nX4rGZkAML4I"
      },
      "outputs": [],
      "source": [
        "libros.to_parquet('Libros.parquet')"
      ]
    },
    {
      "cell_type": "markdown",
      "metadata": {
        "id": "YbOwxPVbJFf4"
      },
      "source": [
        "# Carga de datos"
      ]
    },
    {
      "cell_type": "code",
      "execution_count": 1,
      "metadata": {
        "id": "4djenMYGJFf4"
      },
      "outputs": [],
      "source": [
        "import pandas as pd\n",
        "\n",
        "file_path = 'Libros.parquet'\n",
        "libros = pd.read_parquet(file_path)"
      ]
    },
    {
      "cell_type": "markdown",
      "metadata": {
        "id": "S2ZNj7jHJFf5"
      },
      "source": [
        "# Análisis estadístico descriptivo"
      ]
    },
    {
      "cell_type": "markdown",
      "metadata": {
        "id": "oSN1u-QKJFf5"
      },
      "source": [
        "## Visualización de datos"
      ]
    },
    {
      "cell_type": "code",
      "execution_count": 2,
      "metadata": {
        "colab": {
          "base_uri": "https://localhost:8080/",
          "height": 206
        },
        "id": "VFutDD3RJFf5",
        "outputId": "d04d1e98-2630-415e-b7c2-219c6968b578"
      },
      "outputs": [
        {
          "data": {
            "text/html": [
              "<div>\n",
              "<style scoped>\n",
              "    .dataframe tbody tr th:only-of-type {\n",
              "        vertical-align: middle;\n",
              "    }\n",
              "\n",
              "    .dataframe tbody tr th {\n",
              "        vertical-align: top;\n",
              "    }\n",
              "\n",
              "    .dataframe thead th {\n",
              "        text-align: right;\n",
              "    }\n",
              "</style>\n",
              "<table border=\"1\" class=\"dataframe\">\n",
              "  <thead>\n",
              "    <tr style=\"text-align: right;\">\n",
              "      <th></th>\n",
              "      <th>Titulo</th>\n",
              "      <th>Autor</th>\n",
              "      <th>Genero</th>\n",
              "      <th>Descripcion</th>\n",
              "    </tr>\n",
              "  </thead>\n",
              "  <tbody>\n",
              "    <tr>\n",
              "      <th>0</th>\n",
              "      <td>Sueñan con ser como nosotras</td>\n",
              "      <td>[Jessica Goodman]</td>\n",
              "      <td>[Intriga, Juvenil, Novela]</td>\n",
              "      <td>Carismáticas, intocables, destinadas a triunfa...</td>\n",
              "    </tr>\n",
              "    <tr>\n",
              "      <th>1</th>\n",
              "      <td>El descontento</td>\n",
              "      <td>[Beatriz Serrano]</td>\n",
              "      <td>[Novela, Realista]</td>\n",
              "      <td>El descontento es la historia de Marisa, una m...</td>\n",
              "    </tr>\n",
              "    <tr>\n",
              "      <th>2</th>\n",
              "      <td>Palabra de reina</td>\n",
              "      <td>[Gema Bonnín]</td>\n",
              "      <td>[Histórico, Novela]</td>\n",
              "      <td>La novela sobre la vida y el poder de Catalina...</td>\n",
              "    </tr>\n",
              "    <tr>\n",
              "      <th>3</th>\n",
              "      <td>Irresistible</td>\n",
              "      <td>[Jose de la Rosa]</td>\n",
              "      <td>[Histórico, Novela, Romántico]</td>\n",
              "      <td>Adam Baxley, el disoluto heredero del conde de...</td>\n",
              "    </tr>\n",
              "    <tr>\n",
              "      <th>4</th>\n",
              "      <td>La criatura del deseo</td>\n",
              "      <td>[Andrea Camilleri]</td>\n",
              "      <td>[Drama, Histórico, Novela]</td>\n",
              "      <td>Basándose en personajes y hechos reales, Andre...</td>\n",
              "    </tr>\n",
              "  </tbody>\n",
              "</table>\n",
              "</div>"
            ],
            "text/plain": [
              "                         Titulo               Autor  \\\n",
              "0  Sueñan con ser como nosotras   [Jessica Goodman]   \n",
              "1                El descontento   [Beatriz Serrano]   \n",
              "2              Palabra de reina       [Gema Bonnín]   \n",
              "3                  Irresistible   [Jose de la Rosa]   \n",
              "4         La criatura del deseo  [Andrea Camilleri]   \n",
              "\n",
              "                           Genero  \\\n",
              "0      [Intriga, Juvenil, Novela]   \n",
              "1              [Novela, Realista]   \n",
              "2             [Histórico, Novela]   \n",
              "3  [Histórico, Novela, Romántico]   \n",
              "4      [Drama, Histórico, Novela]   \n",
              "\n",
              "                                         Descripcion  \n",
              "0  Carismáticas, intocables, destinadas a triunfa...  \n",
              "1  El descontento es la historia de Marisa, una m...  \n",
              "2  La novela sobre la vida y el poder de Catalina...  \n",
              "3  Adam Baxley, el disoluto heredero del conde de...  \n",
              "4  Basándose en personajes y hechos reales, Andre...  "
            ]
          },
          "execution_count": 2,
          "metadata": {},
          "output_type": "execute_result"
        }
      ],
      "source": [
        "libros.head()"
      ]
    },
    {
      "cell_type": "code",
      "execution_count": 3,
      "metadata": {
        "colab": {
          "base_uri": "https://localhost:8080/"
        },
        "id": "RLDOz8WmJFf5",
        "outputId": "89741b4b-ae8f-4401-c78a-d7bd359740e7"
      },
      "outputs": [
        {
          "data": {
            "text/plain": [
              "Titulo         0\n",
              "Autor          0\n",
              "Genero         0\n",
              "Descripcion    0\n",
              "dtype: int64"
            ]
          },
          "execution_count": 3,
          "metadata": {},
          "output_type": "execute_result"
        }
      ],
      "source": [
        "libros.isna().sum()"
      ]
    },
    {
      "cell_type": "code",
      "execution_count": 4,
      "metadata": {
        "colab": {
          "base_uri": "https://localhost:8080/",
          "height": 175
        },
        "id": "3sj9wHLrJFf5",
        "outputId": "6d329a5a-a08b-4c21-9e74-643d8c77fde2"
      },
      "outputs": [
        {
          "data": {
            "text/html": [
              "<div>\n",
              "<style scoped>\n",
              "    .dataframe tbody tr th:only-of-type {\n",
              "        vertical-align: middle;\n",
              "    }\n",
              "\n",
              "    .dataframe tbody tr th {\n",
              "        vertical-align: top;\n",
              "    }\n",
              "\n",
              "    .dataframe thead th {\n",
              "        text-align: right;\n",
              "    }\n",
              "</style>\n",
              "<table border=\"1\" class=\"dataframe\">\n",
              "  <thead>\n",
              "    <tr style=\"text-align: right;\">\n",
              "      <th></th>\n",
              "      <th>Titulo</th>\n",
              "      <th>Autor</th>\n",
              "      <th>Genero</th>\n",
              "      <th>Descripcion</th>\n",
              "    </tr>\n",
              "  </thead>\n",
              "  <tbody>\n",
              "    <tr>\n",
              "      <th>count</th>\n",
              "      <td>1200</td>\n",
              "      <td>1200</td>\n",
              "      <td>1200</td>\n",
              "      <td>1200</td>\n",
              "    </tr>\n",
              "    <tr>\n",
              "      <th>unique</th>\n",
              "      <td>1159</td>\n",
              "      <td>906</td>\n",
              "      <td>1200</td>\n",
              "      <td>1152</td>\n",
              "    </tr>\n",
              "    <tr>\n",
              "      <th>top</th>\n",
              "      <td>Huellas enemigas</td>\n",
              "      <td>[Varios Autores]</td>\n",
              "      <td>[Intriga, Juvenil, Novela]</td>\n",
              "      <td>Nacido en la Misia oriental en 117, Elio Arist...</td>\n",
              "    </tr>\n",
              "    <tr>\n",
              "      <th>freq</th>\n",
              "      <td>2</td>\n",
              "      <td>12</td>\n",
              "      <td>1</td>\n",
              "      <td>4</td>\n",
              "    </tr>\n",
              "  </tbody>\n",
              "</table>\n",
              "</div>"
            ],
            "text/plain": [
              "                  Titulo             Autor                      Genero  \\\n",
              "count               1200              1200                        1200   \n",
              "unique              1159               906                        1200   \n",
              "top     Huellas enemigas  [Varios Autores]  [Intriga, Juvenil, Novela]   \n",
              "freq                   2                12                           1   \n",
              "\n",
              "                                              Descripcion  \n",
              "count                                                1200  \n",
              "unique                                               1152  \n",
              "top     Nacido en la Misia oriental en 117, Elio Arist...  \n",
              "freq                                                    4  "
            ]
          },
          "execution_count": 4,
          "metadata": {},
          "output_type": "execute_result"
        }
      ],
      "source": [
        "libros.describe()"
      ]
    },
    {
      "cell_type": "markdown",
      "metadata": {
        "id": "idTLxgd4JFf5"
      },
      "source": [
        "Aquí vemos cómo él describe nos muestra que existen  906 valores únicos para autores y  1200 valores únicos para géneros, sin embargo, los libros al poder tener más de un autor o genero la solución que buscamos a la hora de crear el dataset fue ponerlos en listas y este formato es que puede causar que el 'describe' no esté realmente mostrando los valores únicos, ya que por ejemplo si tenemos ['Batalla', 'Novela'] y ['Novela'] el 'describe' tomará que hay dos géneros totales y dos géneros únicos cuando realmente hay 3 géneros totales, pero solamente 2 únicos para solucionar esto hacemos:"
      ]
    },
    {
      "cell_type": "code",
      "execution_count": 5,
      "metadata": {
        "colab": {
          "base_uri": "https://localhost:8080/"
        },
        "id": "61ObD1PcJFf5",
        "outputId": "f3a25f29-770c-4ce2-8678-f37862d021b4"
      },
      "outputs": [
        {
          "data": {
            "text/plain": [
              "(70, 1018)"
            ]
          },
          "execution_count": 5,
          "metadata": {},
          "output_type": "execute_result"
        }
      ],
      "source": [
        "generos_unicos = libros['Genero'].explode().unique()\n",
        "autores_unicos = libros['Autor'].explode().unique()\n",
        "generos_unicos.size, autores_unicos.size"
      ]
    },
    {
      "cell_type": "markdown",
      "metadata": {
        "id": "VMAH6RIMJFf5"
      },
      "source": [
        "Ahora sí podemos ver cuantos géneros y autores existen realmente, siendo estos 70 y 1018 correspondientemente."
      ]
    },
    {
      "cell_type": "markdown",
      "metadata": {
        "id": "v82wScQhJFf6"
      },
      "source": [
        "## Gráficos"
      ]
    },
    {
      "cell_type": "code",
      "execution_count": 6,
      "metadata": {
        "colab": {
          "base_uri": "https://localhost:8080/",
          "height": 506
        },
        "id": "T-oh0n8iJFf6",
        "outputId": "62b31d21-977e-40e0-8f48-5a64d2b7b948"
      },
      "outputs": [
        {
          "data": {
            "image/png": "[encoded data removed]",
            "text/plain": [
              "<Figure size 1000x500 with 1 Axes>"
            ]
          },
          "metadata": {},
          "output_type": "display_data"
        }
      ],
      "source": [
        "import matplotlib.pyplot as plt\n",
        "import seaborn as sns\n",
        "\n",
        "fig, axs = plt.subplots(figsize=(10, 5))\n",
        "\n",
        "# Histograma       creamos un dataframe con los generos de la sublista de generos de cada libro\n",
        "sns.histplot(pd.DataFrame([genero for sublist in libros['Genero'] for genero in sublist], columns=['Genero'])['Genero'])\n",
        "axs.set_title('Histograma de Genero')\n",
        "axs.set_xlabel('Generos')\n",
        "axs.set_ylabel('Frecuencia')\n",
        "\n",
        "plt.xticks(rotation=90, fontsize=8)\n",
        "plt.tight_layout()\n",
        "plt.show()"
      ]
    },
    {
      "cell_type": "markdown",
      "metadata": {
        "id": "9f97kw06JFf6"
      },
      "source": [
        "# Recomendación directa"
      ]
    },
    {
      "cell_type": "code",
      "execution_count": 7,
      "metadata": {
        "colab": {
          "base_uri": "https://localhost:8080/"
        },
        "id": "bsETqj_nJFf6",
        "outputId": "d522db81-8f82-4a06-e3a7-f54242de428f"
      },
      "outputs": [],
      "source": [
        "user_input = input(\"¿Qué tienes ganas de leer hoy?\\n\") #Algo de psicologia"
      ]
    },
    {
      "cell_type": "code",
      "execution_count": 8,
      "metadata": {
        "colab": {
          "base_uri": "https://localhost:8080/"
        },
        "id": "cwUYsMR2S2WL",
        "outputId": "3f45ab61-4239-4938-c722-8ec118d62aaf"
      },
      "outputs": [],
      "source": [
        "import torch\n",
        "from transformers import BertTokenizer, BertModel\n",
        "from torch.nn.functional import cosine_similarity\n",
        "\n",
        "# Cargar el tokenizador y el modelo BERT multilingüe\n",
        "tokenizer = BertTokenizer.from_pretrained('bert-base-multilingual-cased')\n",
        "model = BertModel.from_pretrained('bert-base-multilingual-cased')"
      ]
    },
    {
      "cell_type": "code",
      "execution_count": 9,
      "metadata": {
        "id": "BGz6tpeoS5E0"
      },
      "outputs": [],
      "source": [
        "# Definir la función para obtener los embeddings de un texto\n",
        "def get_embedding(text):\n",
        "    # Tokenizar el texto, convirtiéndolo en tensores y asegurando la longitud máxima y el padding\n",
        "    tokens = tokenizer(text, return_tensors='pt', truncation=True, padding=True, max_length=512)\n",
        "    # Desactivar el cálculo del gradiente ya que estamos en modo de inferencia\n",
        "    with torch.no_grad():\n",
        "        # Pasar los tokens a través del modelo BERT para obtener los embeddings\n",
        "        outputs = model(**tokens)\n",
        "    # Promediar los embeddings de los tokens para obtener un solo vector de representación\n",
        "    return outputs.last_hidden_state.mean(dim=1)"
      ]
    },
    {
      "cell_type": "code",
      "execution_count": 10,
      "metadata": {
        "id": "J01LkXOvTGkY"
      },
      "outputs": [],
      "source": [
        "# Obtener los embeddings de las descripciones de los libros\n",
        "libros['Embedding'] = libros['Descripcion'].apply(get_embedding)"
      ]
    },
    {
      "cell_type": "code",
      "execution_count": 11,
      "metadata": {
        "id": "kZJ21jU1S8Mk"
      },
      "outputs": [],
      "source": [
        "# Definir la función para recomendar libros basados en la entrada del usuario\n",
        "def recomendar_libros(user_input):\n",
        "    # Obtener el embedding de la entrada del usuario\n",
        "    user_embedding = get_embedding(user_input)\n",
        "    # Calcular la similitud del coseno entre el embedding del usuario y los embeddings de los libros\n",
        "    libros['Similitud'] = libros['Embedding'].apply(lambda x: cosine_similarity(user_embedding, x).item())\n",
        "    # Ordenar los libros por la similitud en orden descendente\n",
        "    libros_ordenados = libros.sort_values(by='Similitud', ascending=False)\n",
        "    # Retornar los primeros 'top_n' libros más similares\n",
        "    return libros_ordenados.head(3)"
      ]
    },
    {
      "cell_type": "code",
      "execution_count": 12,
      "metadata": {
        "id": "Net-ZuP9TP4b"
      },
      "outputs": [],
      "source": [
        "# Obtener las recomendaciones\n",
        "recomendaciones = recomendar_libros(user_input)"
      ]
    },
    {
      "cell_type": "code",
      "execution_count": 13,
      "metadata": {
        "colab": {
          "base_uri": "https://localhost:8080/"
        },
        "id": "hMgAHQvyUFwR",
        "outputId": "7687fe2e-7134-4a78-d5bb-5dcda1993b70"
      },
      "outputs": [
        {
          "name": "stdout",
          "output_type": "stream",
          "text": [
            "Título: Problemas epistemológicos de la Psicología\n",
            "Autor: ['Fernando González Rey']\n",
            "Género: Psicología, Referencia\n",
            "Descripción: La presente monografía aborda los fundamentos y métodos que sustentan la teoría del conocimiento en una de las más importantes ramas de la ciencia: la psicología. El intentar adentrarse en un terreno tan polémico, es un desafío enorme para cualquier investigador, y el doctor González Rey logra vencer con acierto y cientificidad ese reto.A través de cuatro capítulos el autor trata cuestiones tan vitales como la relación entre lo técnico y lo empírico, el vínculo entre lo técnico y lo metodológico en la psicología, la construcción del conocimiento en la psicología y la relación personalidad-sujeto-sociedad en las ciencias sociales, entre otros tópicos.\n",
            "\n",
            "Similitud: 0.5644\n",
            "\n",
            "Título: El lenguaje olvidado\n",
            "Autor: ['Erich Fromm']\n",
            "Género: Ensayo, Psicología\n",
            "Descripción: Introducción a la comprensión de los sueños, mitos y cuentos de hadasÚnico lenguaje común a toda la humanidad, los sueños comparten con los mitos su carácter universal. Independientes de la lógica que rige el pensamiento en la vigilia, a lo largo de la historia han sido interpretados de distintas maneras. Juzgados por algunos como mensajes de los dioses y por otros como acechanzas del demonio, a inicios del siglo XX, con el nacimiento del psicoanálisis, se convirtieron en objeto de estudio por la psicología y la medicina, abriendo insospechados horizontes al esclarecimiento y comprensión de la psique humana.Este libro está basado en las clases de un curso preliminar dedicado a postgraduados y estudiantes. Dirigido, también, a los estudiantes de psiquiatría y psicología y al público general interesado en esta materia, este libro es una perfecta introducción a la compresión del lenguaje simbólico de los sueños.\n",
            "\n",
            "Similitud: 0.5130\n",
            "\n",
            "Título: Cerebro y libertad\n",
            "Autor: ['Joaquín M. Fuster']\n",
            "Género: Ciencias naturales, Divulgación\n",
            "Descripción: De Spinoza a Schopenhauer, de Marx a Nietzsche, la historia del pensamiento es también la historia de este eterno debate sobre la existencia o no de un libre albedrío. Un debate presente también en campos tan diversos como el derecho, la religión o la ciencia. Se hacía necesaria una reflexión desde una disciplina innovadora, como es la neurociencia, realizada además por uno delos más prestigiosos neurocientíficos, el profesor Joaquín Fuster, cuyas investigaciones a lo largo de las cinco últimas décadas han hecho aportaciones trascendentales a nuestro conocimiento de las estructuras neurales subyacentes a la cognición y la conducta.Este libro recoge sus investigaciones sobre si tenemos libre albedrío. Partiendo de su obra seminal sobre las funciones de la corteza prefrontal en la toma de decisiones, la planificación, la creatividad, la memoria de trabajo y el lenguaje, el profesor Fuster sostiene que el albedrío o la libertad para escoger entre alternativas es una función de la corteza cerebral, bajo control prefrontal, en su interacción recíproca con el entorno. Por tanto, la libertad es inseparable de esta relación circular. Cerebro y libertad es una fascinante investigación sobre los cimientos cerebrales de nuestra capacidad para elegir entre diferentes opciones y poner libremente en práctica planes creativos para alcanzar determinado objetivo.\n",
            "\n",
            "Similitud: 0.5067\n",
            "\n"
          ]
        }
      ],
      "source": [
        "# Mostrar las recomendaciones\n",
        "for index, row in recomendaciones.iterrows():\n",
        "    print(f\"Título: {row['Titulo']}\")\n",
        "    print(f\"Autor: {row['Autor']}\")\n",
        "    print(f\"Género: {', '.join(row['Genero'])}\")\n",
        "    print(f\"Descripción: {row['Descripcion']}\\n\")\n",
        "    print(f\"Similitud: {row['Similitud']:.4f}\\n\")"
      ]
    },
    {
      "cell_type": "markdown",
      "metadata": {
        "id": "20LmyWSrML4K"
      },
      "source": [
        "# Recomendación por autor"
      ]
    },
    {
      "cell_type": "code",
      "execution_count": 18,
      "metadata": {
        "colab": {
          "base_uri": "https://localhost:8080/"
        },
        "id": "rYBL_kTtSJaT",
        "outputId": "13703e62-4e7c-46a9-a1d7-3ce745d93ac4"
      },
      "outputs": [],
      "source": [
        "user_input_a = input(\"¿Qué autor tienes ganas de leer hoy?\\n\") #'Stephen King'"
      ]
    },
    {
      "cell_type": "markdown",
      "metadata": {
        "id": "3ysutpeuJFf6"
      },
      "source": [
        "Usamos la Distancia de Levenshtein"
      ]
    },
    {
      "cell_type": "code",
      "execution_count": 19,
      "metadata": {
        "id": "SIv8vTuLJFf_"
      },
      "outputs": [],
      "source": [
        "# Lista de géneros únicos para la coincidencia difusa\n",
        "autores = set([g for sublist in libros['Autor'] for g in sublist])"
      ]
    },
    {
      "cell_type": "code",
      "execution_count": 20,
      "metadata": {
        "colab": {
          "base_uri": "https://localhost:8080/"
        },
        "id": "YjkizOAxJFf_",
        "outputId": "9a6a34e7-1062-4e38-c141-b44324a7f995"
      },
      "outputs": [
        {
          "name": "stdout",
          "output_type": "stream",
          "text": [
            "Autor más cercano: Stephen King\n"
          ]
        }
      ],
      "source": [
        "import Levenshtein\n",
        "\n",
        "t = user_input_a\n",
        "\n",
        "# Inicializar variables para almacenar el autor con la menor distancia y la distancia mínima\n",
        "min_distance_a = float('inf')\n",
        "closest_author = None\n",
        "\n",
        "for autor in autores:\n",
        "    s = autor\n",
        "    distance = Levenshtein.distance(s, t)\n",
        "    if distance < min_distance_a:\n",
        "            min_distance_a = distance\n",
        "            closest_author = autor\n",
        "\n",
        "# Filtrar el DataFrame para mostrar solo los libros del autor más cercano\n",
        "filtered_df = libros[libros['Autor'].apply(lambda x: closest_author in x)]\n",
        "\n",
        "# Mostrar el autor más cercano y el DataFrame filtrado\n",
        "print(f\"Autor más cercano: {closest_author}\")"
      ]
    },
    {
      "cell_type": "code",
      "execution_count": 21,
      "metadata": {
        "colab": {
          "base_uri": "https://localhost:8080/",
          "height": 89
        },
        "id": "7vC_b5x4JFf_",
        "outputId": "dbbd683c-2f4c-4433-d208-322b324e3d9a"
      },
      "outputs": [
        {
          "data": {
            "text/html": [
              "<div>\n",
              "<style scoped>\n",
              "    .dataframe tbody tr th:only-of-type {\n",
              "        vertical-align: middle;\n",
              "    }\n",
              "\n",
              "    .dataframe tbody tr th {\n",
              "        vertical-align: top;\n",
              "    }\n",
              "\n",
              "    .dataframe thead th {\n",
              "        text-align: right;\n",
              "    }\n",
              "</style>\n",
              "<table border=\"1\" class=\"dataframe\">\n",
              "  <thead>\n",
              "    <tr style=\"text-align: right;\">\n",
              "      <th></th>\n",
              "      <th>Titulo</th>\n",
              "      <th>Autor</th>\n",
              "      <th>Genero</th>\n",
              "      <th>Descripcion</th>\n",
              "      <th>Embedding</th>\n",
              "      <th>Similitud</th>\n",
              "    </tr>\n",
              "  </thead>\n",
              "  <tbody>\n",
              "    <tr>\n",
              "      <th>350</th>\n",
              "      <td>Holly</td>\n",
              "      <td>[Stephen King]</td>\n",
              "      <td>[Novela, Policíaco]</td>\n",
              "      <td>Cuando Penny Dahl contacta con Finders Keepers...</td>\n",
              "      <td>[[tensor(-0.4467), tensor(-0.5030), tensor(0.1...</td>\n",
              "      <td>0.439348</td>\n",
              "    </tr>\n",
              "  </tbody>\n",
              "</table>\n",
              "</div>"
            ],
            "text/plain": [
              "    Titulo           Autor               Genero  \\\n",
              "350  Holly  [Stephen King]  [Novela, Policíaco]   \n",
              "\n",
              "                                           Descripcion  \\\n",
              "350  Cuando Penny Dahl contacta con Finders Keepers...   \n",
              "\n",
              "                                             Embedding  Similitud  \n",
              "350  [[tensor(-0.4467), tensor(-0.5030), tensor(0.1...   0.439348  "
            ]
          },
          "execution_count": 21,
          "metadata": {},
          "output_type": "execute_result"
        }
      ],
      "source": [
        "filtered_df"
      ]
    },
    {
      "cell_type": "markdown",
      "metadata": {
        "id": "7Io3-4QgJFgA"
      },
      "source": [
        "# Recomendación por generos"
      ]
    },
    {
      "cell_type": "code",
      "execution_count": 22,
      "metadata": {
        "colab": {
          "base_uri": "https://localhost:8080/"
        },
        "id": "XV_0uiE4SgbF",
        "outputId": "4030a954-8cd6-482e-9409-6593cd8a53ea"
      },
      "outputs": [],
      "source": [
        "user_input_g = input(\"¿Qué genero tienes ganas de leer hoy?\\n\")#'Accion'"
      ]
    },
    {
      "cell_type": "markdown",
      "metadata": {
        "id": "cEpi3CtgJFgA"
      },
      "source": [
        "## Mediante la distancia de Levenshtein"
      ]
    },
    {
      "cell_type": "code",
      "execution_count": 23,
      "metadata": {
        "id": "zzmjEME0JFgA"
      },
      "outputs": [],
      "source": [
        "# Lista de géneros únicos para la coincidencia difusa\n",
        "generos = set([g for sublist in libros['Genero'] for g in sublist])"
      ]
    },
    {
      "cell_type": "code",
      "execution_count": 24,
      "metadata": {
        "colab": {
          "base_uri": "https://localhost:8080/"
        },
        "id": "gL0I8GcGJFgA",
        "outputId": "b74d5b23-67d2-4a20-8e1e-7178b3467fe9"
      },
      "outputs": [
        {
          "name": "stdout",
          "output_type": "stream",
          "text": [
            "Genero más cercano: Terror\n"
          ]
        }
      ],
      "source": [
        "import Levenshtein\n",
        "\n",
        "t = user_input_g\n",
        "\n",
        "# Inicializar variables para almacenar el autor con la menor distancia y la distancia mínima\n",
        "min_distance_g = float('inf')\n",
        "closest_generes = None\n",
        "\n",
        "for genero in generos:\n",
        "    s = genero\n",
        "    distance_g = Levenshtein.distance(s, t)\n",
        "    if distance_g < min_distance_g:\n",
        "            min_distance_g = distance_g\n",
        "            closest_generes = genero\n",
        "\n",
        "# Filtrar el DataFrame para mostrar solo los libros del autor más cercano\n",
        "filtered_df_generos = libros[libros['Genero'].apply(lambda x: closest_generes in x)]\n",
        "\n",
        "# Mostrar el autor más cercano y el DataFrame filtrado\n",
        "print(f\"Genero más cercano: {closest_generes}\")"
      ]
    },
    {
      "cell_type": "code",
      "execution_count": 25,
      "metadata": {
        "colab": {
          "base_uri": "https://localhost:8080/",
          "height": 439
        },
        "id": "9rGvUwwUJFgA",
        "outputId": "ec8f79c5-fbde-456a-cd01-829508451e38"
      },
      "outputs": [
        {
          "data": {
            "text/html": [
              "<div>\n",
              "<style scoped>\n",
              "    .dataframe tbody tr th:only-of-type {\n",
              "        vertical-align: middle;\n",
              "    }\n",
              "\n",
              "    .dataframe tbody tr th {\n",
              "        vertical-align: top;\n",
              "    }\n",
              "\n",
              "    .dataframe thead th {\n",
              "        text-align: right;\n",
              "    }\n",
              "</style>\n",
              "<table border=\"1\" class=\"dataframe\">\n",
              "  <thead>\n",
              "    <tr style=\"text-align: right;\">\n",
              "      <th></th>\n",
              "      <th>Titulo</th>\n",
              "      <th>Autor</th>\n",
              "      <th>Genero</th>\n",
              "      <th>Descripcion</th>\n",
              "      <th>Embedding</th>\n",
              "      <th>Similitud</th>\n",
              "    </tr>\n",
              "  </thead>\n",
              "  <tbody>\n",
              "    <tr>\n",
              "      <th>255</th>\n",
              "      <td>La chica más fría de Coldtown</td>\n",
              "      <td>[Holly Black]</td>\n",
              "      <td>[Fantástico, Novela, Terror]</td>\n",
              "      <td>Tana vive en un mundo en el que existen ciudad...</td>\n",
              "      <td>[[tensor(-0.1865), tensor(-0.5791), tensor(-0....</td>\n",
              "      <td>0.398286</td>\n",
              "    </tr>\n",
              "    <tr>\n",
              "      <th>264</th>\n",
              "      <td>La chica más fría de Coldtown</td>\n",
              "      <td>[Holly Black]</td>\n",
              "      <td>[Fantástico, Novela, Terror]</td>\n",
              "      <td>Tana vive en un mundo en el que existen ciudad...</td>\n",
              "      <td>[[tensor(-0.1865), tensor(-0.5791), tensor(-0....</td>\n",
              "      <td>0.398286</td>\n",
              "    </tr>\n",
              "    <tr>\n",
              "      <th>338</th>\n",
              "      <td>La sombra en llamas</td>\n",
              "      <td>[Jonathan Stroud]</td>\n",
              "      <td>[Fantástico, Novela, Terror]</td>\n",
              "      <td>Lucy va por libre y está trabajando para agenc...</td>\n",
              "      <td>[[tensor(0.0822), tensor(-0.2983), tensor(-0.0...</td>\n",
              "      <td>0.440376</td>\n",
              "    </tr>\n",
              "    <tr>\n",
              "      <th>373</th>\n",
              "      <td>El cuarto secreto</td>\n",
              "      <td>[Tono Galiana]</td>\n",
              "      <td>[Novela, Terror]</td>\n",
              "      <td>No podía ser de otra manera, tanto abuso, tant...</td>\n",
              "      <td>[[tensor(-0.1068), tensor(-0.4651), tensor(-0....</td>\n",
              "      <td>0.376536</td>\n",
              "    </tr>\n",
              "    <tr>\n",
              "      <th>417</th>\n",
              "      <td>Zothique, el último continente</td>\n",
              "      <td>[Clark Ashton Smith]</td>\n",
              "      <td>[Fantástico, Otros, Relato, Terror]</td>\n",
              "      <td>Junto con sus colegas y amigos epistolares H.P...</td>\n",
              "      <td>[[tensor(-0.0272), tensor(-0.3768), tensor(0.4...</td>\n",
              "      <td>0.385985</td>\n",
              "    </tr>\n",
              "    <tr>\n",
              "      <th>579</th>\n",
              "      <td>Eco</td>\n",
              "      <td>[Thomas Olde Heuvelt]</td>\n",
              "      <td>[Novela, Terror]</td>\n",
              "      <td>Hay quien dice que no hay nada peor que perder...</td>\n",
              "      <td>[[tensor(-0.2526), tensor(-0.5117), tensor(0.2...</td>\n",
              "      <td>0.394510</td>\n",
              "    </tr>\n",
              "    <tr>\n",
              "      <th>667</th>\n",
              "      <td>Mystic Topaz</td>\n",
              "      <td>[Pilar Pedraza]</td>\n",
              "      <td>[Fantástico, Relato, Terror]</td>\n",
              "      <td>Cuando abrimos un libro de Pilar Pedraza a men...</td>\n",
              "      <td>[[tensor(-0.0077), tensor(-0.1884), tensor(0.0...</td>\n",
              "      <td>0.405932</td>\n",
              "    </tr>\n",
              "    <tr>\n",
              "      <th>686</th>\n",
              "      <td>Corazón caníbal</td>\n",
              "      <td>[Miguel Cané]</td>\n",
              "      <td>[Intriga, Novela, Terror]</td>\n",
              "      <td>Claudia Castañeda, joven mexicana en Estados U...</td>\n",
              "      <td>[[tensor(-0.0798), tensor(-0.3345), tensor(0.0...</td>\n",
              "      <td>0.401899</td>\n",
              "    </tr>\n",
              "    <tr>\n",
              "      <th>778</th>\n",
              "      <td>Océanos de tiempo</td>\n",
              "      <td>[Jerónimo Tristante]</td>\n",
              "      <td>[Novela, Terror]</td>\n",
              "      <td>Madrid, 1892. El prestigioso psiquiatra August...</td>\n",
              "      <td>[[tensor(-0.1149), tensor(-0.5013), tensor(-0....</td>\n",
              "      <td>0.432018</td>\n",
              "    </tr>\n",
              "    <tr>\n",
              "      <th>808</th>\n",
              "      <td>Los recuerdos del hombre del saco</td>\n",
              "      <td>[Goretti Irisarri, Jose Gil Romero]</td>\n",
              "      <td>[Relato, Terror]</td>\n",
              "      <td>Un periodista está realizando una serie de ent...</td>\n",
              "      <td>[[tensor(0.1288), tensor(-0.5267), tensor(-0.0...</td>\n",
              "      <td>0.423366</td>\n",
              "    </tr>\n",
              "    <tr>\n",
              "      <th>820</th>\n",
              "      <td>Nieve Blanca</td>\n",
              "      <td>[Goretti Irisarri, Jose Gil Romero]</td>\n",
              "      <td>[Relato, Terror]</td>\n",
              "      <td>En su camino hacia una vieja mina de diamantes...</td>\n",
              "      <td>[[tensor(0.1459), tensor(-0.3385), tensor(0.17...</td>\n",
              "      <td>0.342650</td>\n",
              "    </tr>\n",
              "    <tr>\n",
              "      <th>834</th>\n",
              "      <td>Tres grandes robles junto a los avellanos</td>\n",
              "      <td>[Goretti Irisarri, Jose Gil Romero]</td>\n",
              "      <td>[Relato, Terror]</td>\n",
              "      <td>Mediados del siglo XIX. Un bosque en la Rusia ...</td>\n",
              "      <td>[[tensor(0.1344), tensor(-0.4039), tensor(0.70...</td>\n",
              "      <td>0.425927</td>\n",
              "    </tr>\n",
              "    <tr>\n",
              "      <th>861</th>\n",
              "      <td>Las aventuras de Geppetto</td>\n",
              "      <td>[Goretti Irisarri, Jose Gil Romero]</td>\n",
              "      <td>[Relato, Terror]</td>\n",
              "      <td>El señor Geppetto lleva una vida solitaria; be...</td>\n",
              "      <td>[[tensor(-0.0975), tensor(-0.7069), tensor(0.0...</td>\n",
              "      <td>0.420658</td>\n",
              "    </tr>\n",
              "    <tr>\n",
              "      <th>868</th>\n",
              "      <td>La sirena</td>\n",
              "      <td>[Goretti Irisarri, Jose Gil Romero]</td>\n",
              "      <td>[Relato, Terror]</td>\n",
              "      <td>«—Una mañana de 1810 —dijo mirando el vaso—, a...</td>\n",
              "      <td>[[tensor(0.2086), tensor(-0.6115), tensor(-0.2...</td>\n",
              "      <td>0.370517</td>\n",
              "    </tr>\n",
              "    <tr>\n",
              "      <th>933</th>\n",
              "      <td>Horrorstör</td>\n",
              "      <td>[Grady Hendrix]</td>\n",
              "      <td>[Novela, Terror]</td>\n",
              "      <td>Ohio. Cada mañana, los empleados se encuentran...</td>\n",
              "      <td>[[tensor(-0.3504), tensor(-0.3355), tensor(-0....</td>\n",
              "      <td>0.398147</td>\n",
              "    </tr>\n",
              "    <tr>\n",
              "      <th>1057</th>\n",
              "      <td>Mandrágora</td>\n",
              "      <td>[Camilo Pino]</td>\n",
              "      <td>[Novela, Terror]</td>\n",
              "      <td>Realismo gótico, horror tropical, tragicomedia...</td>\n",
              "      <td>[[tensor(-0.1161), tensor(-0.5400), tensor(0.1...</td>\n",
              "      <td>0.420537</td>\n",
              "    </tr>\n",
              "    <tr>\n",
              "      <th>1122</th>\n",
              "      <td>Donantes de sueño</td>\n",
              "      <td>[Karen Russell]</td>\n",
              "      <td>[Novela, Terror]</td>\n",
              "      <td>Una epidemia de insomnio sacude Estados Unidos...</td>\n",
              "      <td>[[tensor(-0.0191), tensor(-0.2690), tensor(0.4...</td>\n",
              "      <td>0.407808</td>\n",
              "    </tr>\n",
              "  </tbody>\n",
              "</table>\n",
              "</div>"
            ],
            "text/plain": [
              "                                         Titulo  \\\n",
              "255               La chica más fría de Coldtown   \n",
              "264               La chica más fría de Coldtown   \n",
              "338                         La sombra en llamas   \n",
              "373                           El cuarto secreto   \n",
              "417              Zothique, el último continente   \n",
              "579                                         Eco   \n",
              "667                                Mystic Topaz   \n",
              "686                             Corazón caníbal   \n",
              "778                           Océanos de tiempo   \n",
              "808           Los recuerdos del hombre del saco   \n",
              "820                                Nieve Blanca   \n",
              "834   Tres grandes robles junto a los avellanos   \n",
              "861                   Las aventuras de Geppetto   \n",
              "868                                   La sirena   \n",
              "933                                  Horrorstör   \n",
              "1057                                 Mandrágora   \n",
              "1122                          Donantes de sueño   \n",
              "\n",
              "                                    Autor  \\\n",
              "255                         [Holly Black]   \n",
              "264                         [Holly Black]   \n",
              "338                     [Jonathan Stroud]   \n",
              "373                        [Tono Galiana]   \n",
              "417                  [Clark Ashton Smith]   \n",
              "579                 [Thomas Olde Heuvelt]   \n",
              "667                       [Pilar Pedraza]   \n",
              "686                         [Miguel Cané]   \n",
              "778                  [Jerónimo Tristante]   \n",
              "808   [Goretti Irisarri, Jose Gil Romero]   \n",
              "820   [Goretti Irisarri, Jose Gil Romero]   \n",
              "834   [Goretti Irisarri, Jose Gil Romero]   \n",
              "861   [Goretti Irisarri, Jose Gil Romero]   \n",
              "868   [Goretti Irisarri, Jose Gil Romero]   \n",
              "933                       [Grady Hendrix]   \n",
              "1057                        [Camilo Pino]   \n",
              "1122                      [Karen Russell]   \n",
              "\n",
              "                                   Genero  \\\n",
              "255          [Fantástico, Novela, Terror]   \n",
              "264          [Fantástico, Novela, Terror]   \n",
              "338          [Fantástico, Novela, Terror]   \n",
              "373                      [Novela, Terror]   \n",
              "417   [Fantástico, Otros, Relato, Terror]   \n",
              "579                      [Novela, Terror]   \n",
              "667          [Fantástico, Relato, Terror]   \n",
              "686             [Intriga, Novela, Terror]   \n",
              "778                      [Novela, Terror]   \n",
              "808                      [Relato, Terror]   \n",
              "820                      [Relato, Terror]   \n",
              "834                      [Relato, Terror]   \n",
              "861                      [Relato, Terror]   \n",
              "868                      [Relato, Terror]   \n",
              "933                      [Novela, Terror]   \n",
              "1057                     [Novela, Terror]   \n",
              "1122                     [Novela, Terror]   \n",
              "\n",
              "                                            Descripcion  \\\n",
              "255   Tana vive en un mundo en el que existen ciudad...   \n",
              "264   Tana vive en un mundo en el que existen ciudad...   \n",
              "338   Lucy va por libre y está trabajando para agenc...   \n",
              "373   No podía ser de otra manera, tanto abuso, tant...   \n",
              "417   Junto con sus colegas y amigos epistolares H.P...   \n",
              "579   Hay quien dice que no hay nada peor que perder...   \n",
              "667   Cuando abrimos un libro de Pilar Pedraza a men...   \n",
              "686   Claudia Castañeda, joven mexicana en Estados U...   \n",
              "778   Madrid, 1892. El prestigioso psiquiatra August...   \n",
              "808   Un periodista está realizando una serie de ent...   \n",
              "820   En su camino hacia una vieja mina de diamantes...   \n",
              "834   Mediados del siglo XIX. Un bosque en la Rusia ...   \n",
              "861   El señor Geppetto lleva una vida solitaria; be...   \n",
              "868   «—Una mañana de 1810 —dijo mirando el vaso—, a...   \n",
              "933   Ohio. Cada mañana, los empleados se encuentran...   \n",
              "1057  Realismo gótico, horror tropical, tragicomedia...   \n",
              "1122  Una epidemia de insomnio sacude Estados Unidos...   \n",
              "\n",
              "                                              Embedding  Similitud  \n",
              "255   [[tensor(-0.1865), tensor(-0.5791), tensor(-0....   0.398286  \n",
              "264   [[tensor(-0.1865), tensor(-0.5791), tensor(-0....   0.398286  \n",
              "338   [[tensor(0.0822), tensor(-0.2983), tensor(-0.0...   0.440376  \n",
              "373   [[tensor(-0.1068), tensor(-0.4651), tensor(-0....   0.376536  \n",
              "417   [[tensor(-0.0272), tensor(-0.3768), tensor(0.4...   0.385985  \n",
              "579   [[tensor(-0.2526), tensor(-0.5117), tensor(0.2...   0.394510  \n",
              "667   [[tensor(-0.0077), tensor(-0.1884), tensor(0.0...   0.405932  \n",
              "686   [[tensor(-0.0798), tensor(-0.3345), tensor(0.0...   0.401899  \n",
              "778   [[tensor(-0.1149), tensor(-0.5013), tensor(-0....   0.432018  \n",
              "808   [[tensor(0.1288), tensor(-0.5267), tensor(-0.0...   0.423366  \n",
              "820   [[tensor(0.1459), tensor(-0.3385), tensor(0.17...   0.342650  \n",
              "834   [[tensor(0.1344), tensor(-0.4039), tensor(0.70...   0.425927  \n",
              "861   [[tensor(-0.0975), tensor(-0.7069), tensor(0.0...   0.420658  \n",
              "868   [[tensor(0.2086), tensor(-0.6115), tensor(-0.2...   0.370517  \n",
              "933   [[tensor(-0.3504), tensor(-0.3355), tensor(-0....   0.398147  \n",
              "1057  [[tensor(-0.1161), tensor(-0.5400), tensor(0.1...   0.420537  \n",
              "1122  [[tensor(-0.0191), tensor(-0.2690), tensor(0.4...   0.407808  "
            ]
          },
          "execution_count": 25,
          "metadata": {},
          "output_type": "execute_result"
        }
      ],
      "source": [
        "filtered_df_generos"
      ]
    },
    {
      "cell_type": "markdown",
      "metadata": {
        "id": "hTANE_CuJFgB"
      },
      "source": [
        "## Mediante Embedding (Bert)"
      ]
    },
    {
      "cell_type": "code",
      "execution_count": 26,
      "metadata": {
        "colab": {
          "base_uri": "https://localhost:8080/"
        },
        "id": "ApQN2RwgJFgB",
        "outputId": "5f5bdc22-7a9b-4687-9ab7-a62073b820fe"
      },
      "outputs": [
        {
          "name": "stdout",
          "output_type": "stream",
          "text": [
            "Number of unique genres: 70\n"
          ]
        }
      ],
      "source": [
        "import torch\n",
        "from transformers import BertTokenizer, BertModel\n",
        "from torch.nn.functional import cosine_similarity\n",
        "import pandas as pd\n",
        "\n",
        "# Lista de géneros únicos para la coincidencia difusa\n",
        "generos_unicos = set([g for sublist in libros['Genero'] for g in sublist])\n",
        "\n",
        "# Get the number of unique genres\n",
        "num_unique_genres = len(generos_unicos)\n",
        "\n",
        "# Print the number of unique genres\n",
        "print(f\"Number of unique genres: {num_unique_genres}\")"
      ]
    },
    {
      "cell_type": "code",
      "execution_count": 27,
      "metadata": {
        "id": "12gurYvKXMH2"
      },
      "outputs": [],
      "source": [
        "import fuzzywuzzy.process as process\n",
        "import fuzzywuzzy.fuzz as fuzz\n",
        "# Definir la función para calcular la similitud del coseno entre dos textos\n",
        "def calcular_similitud(texto1, texto2):\n",
        "    embedding_texto1 = get_embedding(texto1)\n",
        "    embedding_texto2 = get_embedding(texto2)\n",
        "    similitud = cosine_similarity(embedding_texto1, embedding_texto2).item()\n",
        "    return similitud\n",
        "\n",
        "# Definir la función para recomendar libros por género\n",
        "def recomendar_por_genero(libros, genero, top_n=3):\n",
        "    # Convertir el género a minúsculas y encontrar la coincidencia difusa más cercana\n",
        "    genero = genero.lower()\n",
        "    mejor_genero = process.extractOne(genero, generos_unicos, scorer=fuzz.partial_ratio)\n",
        "    if mejor_genero[1] < 80:  # Umbral de similitud del 80%\n",
        "        print(f\"No se encontró un género similar a '{genero}'.\")\n",
        "        return pd.DataFrame()  # Retornar un DataFrame vacío\n",
        "\n",
        "    # Calcular la similitud del coseno entre la descripción del género y la entrada del usuario\n",
        "    similitudes = []\n",
        "    for index, row in libros.iterrows():\n",
        "        descripcion = ' '.join(row['Genero'])  # Unimos los géneros en una cadena para obtener la descripción del género\n",
        "        similitud = calcular_similitud(descripcion, mejor_genero[0])\n",
        "        similitudes.append((index, similitud))\n",
        "\n",
        "    # Ordenar los libros por similitud (en este caso no calculamos similitud, solo mostramos)\n",
        "    libros_ordenados = pd.DataFrame(similitudes, columns=['Index', 'Similitud']).sort_values(by='Similitud', ascending=False)\n",
        "    libros_ordenados = libros_ordenados.head(top_n)\n",
        "    libros_filtrados = libros.loc[libros_ordenados['Index']]\n",
        "\n",
        "    return libros_filtrados"
      ]
    },
    {
      "cell_type": "code",
      "execution_count": 28,
      "metadata": {
        "colab": {
          "base_uri": "https://localhost:8080/"
        },
        "id": "KKQo5z3jJFgB",
        "outputId": "aa36e1b3-3857-484c-f3af-203e35229300"
      },
      "outputs": [
        {
          "name": "stdout",
          "output_type": "stream",
          "text": [
            "Título: Las aventuras de Geppetto\n",
            "Autor: ['Goretti Irisarri' 'Jose Gil Romero']\n",
            "Género: Relato, Terror\n",
            "Descripción: El señor Geppetto lleva una vida solitaria; bebe de más y trabaja limpiando los burros de la isla de los uguetes, recogiendo las ropas de los niños desaparecidos. Una mañana, sin embargo, el señor Geppetto se descubre en el brazo algo que cambiará su existencia.\n",
            "\n",
            "Título: Los recuerdos del hombre del saco\n",
            "Autor: ['Goretti Irisarri' 'Jose Gil Romero']\n",
            "Género: Relato, Terror\n",
            "Descripción: Un periodista está realizando una serie de entrevistas a un asesino que lleva preso cinco años y que es conocido como el hombre del saco.Tras la primera entrevista, el periodista comienza a recordar unos misteriosos acontecimientos para los que no encuentra explicación.\n",
            "\n",
            "Título: Tres grandes robles junto a los avellanos\n",
            "Autor: ['Goretti Irisarri' 'Jose Gil Romero']\n",
            "Género: Relato, Terror\n",
            "Descripción: Mediados del siglo XIX. Un bosque en la Rusia prerevolucionaria. Un hombre. Una mujer. Un rastro. Un lobo. Un monstruo.\n",
            "\n"
          ]
        }
      ],
      "source": [
        "# Obtener las recomendaciones de libros basadas en el género especificado\n",
        "recomendaciones = recomendar_por_genero(libros, user_input_g)\n",
        "\n",
        "# Verificar si se encontraron recomendaciones\n",
        "if not recomendaciones.empty:\n",
        "    # Mostrar las recomendaciones con sus detalles\n",
        "    for index, row in recomendaciones.iterrows():\n",
        "        print(f\"Título: {row['Titulo']}\")  # Imprimir el título del libro\n",
        "        print(f\"Autor: {row['Autor']}\")  # Imprimir el autor del libro\n",
        "        print(f\"Género: {', '.join(row['Genero'])}\")  # Imprimir el género del libro\n",
        "        print(f\"Descripción: {row['Descripcion']}\\n\")  # Imprimir la descripción del libro\n",
        "else:\n",
        "    print(\"No se encontraron recomendaciones.\")"
      ]
    }
  ],
  "metadata": {
    "accelerator": "TPU",
    "colab": {
      "collapsed_sections": [
        "Y-MYE8_cML4E",
        "6pbbwW5LML4F",
        "YbOwxPVbJFf4",
        "20LmyWSrML4K",
        "cEpi3CtgJFgA"
      ],
      "gpuType": "V28",
      "provenance": []
    },
    "kernelspec": {
      "display_name": "Python 3",
      "name": "python3"
    },
    "language_info": {
      "codemirror_mode": {
        "name": "ipython",
        "version": 3
      },
      "file_extension": ".py",
      "mimetype": "text/x-python",
      "name": "python",
      "nbconvert_exporter": "python",
      "pygments_lexer": "ipython3",
      "version": "3.11.6"
    }
  },
  "nbformat": 4,
  "nbformat_minor": 0
}
