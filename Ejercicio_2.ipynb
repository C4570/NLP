{
 "cells": [
  {
   "cell_type": "markdown",
   "metadata": {},
   "source": [
    "# Paquetes necesarios"
   ]
  },
  {
   "cell_type": "code",
   "execution_count": null,
   "metadata": {},
   "outputs": [],
   "source": [
    "# !pip install pandas\n",
    "# !pip install beautifulsoup4\n",
    "# !pip install selenium"
   ]
  },
  {
   "cell_type": "markdown",
   "metadata": {},
   "source": [
    "# Librerías"
   ]
  },
  {
   "cell_type": "code",
   "execution_count": 1,
   "metadata": {},
   "outputs": [],
   "source": [
    "import pandas as pd\n",
    "\n",
    "import requests\n",
    "from bs4 import BeautifulSoup\n",
    "\n",
    "from selenium import webdriver\n",
    "from selenium.webdriver.common.by import By\n",
    "from selenium.webdriver.support.ui import WebDriverWait"
   ]
  },
  {
   "cell_type": "markdown",
   "metadata": {},
   "source": [
    "# Código"
   ]
  },
  {
   "cell_type": "code",
   "execution_count": 2,
   "metadata": {},
   "outputs": [
    {
     "name": "stderr",
     "output_type": "stream",
     "text": [
      "c:\\Users\\src4\\AppData\\Local\\Programs\\Python\\Python311\\Lib\\site-packages\\urllib3\\connectionpool.py:1103: InsecureRequestWarning: Unverified HTTPS request is being made to host 'tableros.yvera.tur.ar'. Adding certificate verification is strongly advised. See: https://urllib3.readthedocs.io/en/latest/advanced-usage.html#tls-warnings\n",
      "  warnings.warn(\n"
     ]
    }
   ],
   "source": [
    "with webdriver.Firefox() as driver:\n",
    "\n",
    "    # Abrir la página de El Ministerio de Turismo y Deportes de la Nación\n",
    "    driver.get(\"https://tableros.yvera.tur.ar/\")\n",
    "    wait = WebDriverWait(driver, 10)\n",
    "    \n",
    "    # Clickeaamos en la imagen que dice \"Indicadores ODS (Objetivos de Desarrollo Sostenible)\"\n",
    "    driver.find_element(By.XPATH, \"/html/body/d-article/div[2]/div/div/div[17]/a/img\").click()\n",
    "\n",
    "    # Obtenemos la URL de la página a la cual fuimos redirigidos\n",
    "    current_url = driver.current_url\n",
    "    \n",
    "    \n",
    "    # Extraigo los valores de los tableros y los guardo en una tabla\n",
    "    response = requests.get(current_url, verify=False)\n",
    "    \n",
    "    soup = BeautifulSoup(response.text, 'html.parser')\n",
    "    \n",
    "    if response.status_code == 200:\n",
    "        html = response.text\n",
    "        summary_div = soup.find('div', {'id': 'shiny-tab-summary'})\n",
    "\n",
    "        data = {\n",
    "            'Texto': [],\n",
    "            'Numero': []\n",
    "        }\n",
    "\n",
    "    if summary_div:\n",
    "        relevant_divs = summary_div.find_all('div', {'class': 'col-sm-4'})\n",
    "        div = relevant_divs[0]\n",
    "        cubos = []\n",
    "        for div in relevant_divs:\n",
    "          p_elements = div.find_all('p')\n",
    "\n",
    "          if (len(p_elements)) > 3:\n",
    "            cubos.append(p_elements[:2])\n",
    "            cubos.append(p_elements[3:5])\n",
    "\n",
    "          else:\n",
    "            p_element = p_elements[:2]\n",
    "            cubos.append(p_element)\n",
    "\n",
    "        for cubo in cubos:\n",
    "          texto = cubo[1].get_text(strip=True)\n",
    "          data['Texto'].append(texto)\n",
    "          numero = cubo[0].get_text(strip=True)\n",
    "          data['Numero'].append(numero)\n",
    "\n",
    "    df = pd.DataFrame(data)    \n",
    "    \n",
    "    # Extraigo la metodología y la imprimo\n",
    "    html = response.text\n",
    "    soup = BeautifulSoup(html, 'html.parser')\n",
    "\n",
    "    box_body_divs = soup.find_all('div', {'class': 'box-body'})\n",
    "\n",
    "    if box_body_divs:\n",
    "      div = box_body_divs[-1]\n",
    "      texto = \"\"\n",
    "      for child in div.children:\n",
    "        if child.name == 'p':\n",
    "          texto += child.get_text(strip=True) + \"\\n\"\n",
    "        elif child.name == 'b':\n",
    "          texto += child.get_text(strip=True) + \"\\n\"\n",
    "        elif child.name == 'ul':\n",
    "          for p in child.find_all('p'):\n",
    "            for b in ul_child.find_all('b'):\n",
    "              texto += b.get_text(strip=True) + \"\\n\"\n",
    "\n",
    "      "
   ]
  },
  {
   "cell_type": "markdown",
   "metadata": {},
   "source": [
    "# Resultado"
   ]
  },
  {
   "cell_type": "code",
   "execution_count": 3,
   "metadata": {},
   "outputs": [
    {
     "data": {
      "text/html": [
       "<div>\n",
       "<style scoped>\n",
       "    .dataframe tbody tr th:only-of-type {\n",
       "        vertical-align: middle;\n",
       "    }\n",
       "\n",
       "    .dataframe tbody tr th {\n",
       "        vertical-align: top;\n",
       "    }\n",
       "\n",
       "    .dataframe thead th {\n",
       "        text-align: right;\n",
       "    }\n",
       "</style>\n",
       "<table border=\"1\" class=\"dataframe\">\n",
       "  <thead>\n",
       "    <tr style=\"text-align: right;\">\n",
       "      <th></th>\n",
       "      <th>Texto</th>\n",
       "      <th>Numero</th>\n",
       "    </tr>\n",
       "  </thead>\n",
       "  <tbody>\n",
       "    <tr>\n",
       "      <th>0</th>\n",
       "      <td>Puestos de trabajo en industrias turísticas (2...</td>\n",
       "      <td>1,2 M</td>\n",
       "    </tr>\n",
       "    <tr>\n",
       "      <th>1</th>\n",
       "      <td>Tasa de informalidad del empleo asalariado tur...</td>\n",
       "      <td>44,43%</td>\n",
       "    </tr>\n",
       "    <tr>\n",
       "      <th>2</th>\n",
       "      <td>PIB turístico respecto del PIB total (2022)</td>\n",
       "      <td>1,68%</td>\n",
       "    </tr>\n",
       "    <tr>\n",
       "      <th>3</th>\n",
       "      <td>Propensión a viajar (2022)</td>\n",
       "      <td>33,2%</td>\n",
       "    </tr>\n",
       "    <tr>\n",
       "      <th>4</th>\n",
       "      <td>Índice de Gini de viajes turísticos (2022)</td>\n",
       "      <td>34,1</td>\n",
       "    </tr>\n",
       "    <tr>\n",
       "      <th>5</th>\n",
       "      <td>Índice de Gini de viajes turísticos de ocio (2...</td>\n",
       "      <td>36,4</td>\n",
       "    </tr>\n",
       "    <tr>\n",
       "      <th>6</th>\n",
       "      <td>Índice de Gini del gasto turístico (2022)</td>\n",
       "      <td>44,1</td>\n",
       "    </tr>\n",
       "  </tbody>\n",
       "</table>\n",
       "</div>"
      ],
      "text/plain": [
       "                                               Texto  Numero\n",
       "0  Puestos de trabajo en industrias turísticas (2...   1,2 M\n",
       "1  Tasa de informalidad del empleo asalariado tur...  44,43%\n",
       "2        PIB turístico respecto del PIB total (2022)   1,68%\n",
       "3                         Propensión a viajar (2022)   33,2%\n",
       "4         Índice de Gini de viajes turísticos (2022)    34,1\n",
       "5  Índice de Gini de viajes turísticos de ocio (2...    36,4\n",
       "6          Índice de Gini del gasto turístico (2022)    44,1"
      ]
     },
     "execution_count": 3,
     "metadata": {},
     "output_type": "execute_result"
    }
   ],
   "source": [
    "df"
   ]
  },
  {
   "cell_type": "code",
   "execution_count": 5,
   "metadata": {},
   "outputs": [
    {
     "name": "stdout",
     "output_type": "stream",
     "text": [
      "Definiciones y conceptos\n",
      "El tablero presenta un conjunto de indicadores que buscan reflejar el aporte del \n",
      "                                turismo a los Objetivos de Desarrollo Sostenible (ODS) para nuestro país. El Documento de Trabajo \n",
      "                                N°12: El turismo en los Objetivos de Desarrollo Sostenible aborda esta propuesta y describe en detalle las fuentas utilizadas y los indicadores elaborados\n",
      "Fuentes de información\n",
      "Los indicadores que reflejan el aporte del turismo a la economía en su conjunto en términos de actividad \n",
      "                                económica y empleo, y la tasa de informalidad de éste, provienen de laCuenta Satélite de Turismo de Argentina (CST-A). El resto de los indicadores, que buscan medir el acceso al turismo y su nivel de desigualdad,\n",
      "                                toman como fuente de los datos a laEncuesta de Viajes y Turismo de los Hogares (EVyTH), representativa de los grandes aglomerados del país.\n",
      "Indicadores\n",
      "• Puestos de trabajo en industrias turísticas: Surge de la suma de los puestos de trabajo existentes en\n",
      "                                               los establecimientos pertenecientes a las ramas de actividad clasificadas como características del turismo. \n",
      "                                               Incluye puestos de trabajo asalariados (registrados y no registrados) y no asalariados.• Tasa de informalidad en el empleo asalariado turístico: Proporción de puestos de trabajo asalariados no registrados\n",
      "                                               con respecto al total de puestos de trabajo asalariados, en porcentaje, para ramas características del turismo.• PIB turístico respecto del PIB total: la parte del PIB de la economía total atribuible directamente\n",
      "                                        al consumo turístico realizado dentro de la Argentina, ya sea por visitantes residentes o no residentes, como porcentaje del PIB total.• Propensión a viajar: Proporción de la población que realizó al menos un viaje con pernocte durante el año de referencia.• Índice de Gini de viajes turísticos: Medida de desigualdad habitual, aplicada a la cantidad total de viajes turísticos \n",
      "                                               realizados según quintil de ingresos de los hogares. Valores más cercanos a 0 implican mayor igualdad, mientras que valores más próximos a 100 reflejan una mayor desigualdad en la distribución de los viajes turísticos según ingresos de la población.• Índice de Gini de viajes turísticos de ocio: El indicador, en este caso, tiene en cuenta únicamente los viajes con motivo de 'esparcimiento, ocio y recreación',\n",
      "                                               excluyéndose aquellos relacionados con la visita a familiares y amigos; trabajo, negocios, motivos profesionales; y otros.• Índice de Gini del gasto turístico: Medida de desigualdad aplicada al gasto que los hogares tuvieron en el viaje, según quintil \n",
      "                                               de ingresos de los hogares.\n",
      "\n"
     ]
    }
   ],
   "source": [
    "print(texto)"
   ]
  }
 ],
 "metadata": {
  "kernelspec": {
   "display_name": "Python 3",
   "language": "python",
   "name": "python3"
  },
  "language_info": {
   "codemirror_mode": {
    "name": "ipython",
    "version": 3
   },
   "file_extension": ".py",
   "mimetype": "text/x-python",
   "name": "python",
   "nbconvert_exporter": "python",
   "pygments_lexer": "ipython3",
   "version": "3.11.6"
  }
 },
 "nbformat": 4,
 "nbformat_minor": 2
}
