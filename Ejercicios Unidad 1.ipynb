{
  "cells": [
    {
      "cell_type": "markdown",
      "metadata": {
        "id": "Wp24g-Ua61SS"
      },
      "source": [
        "# Ejercicio 0\n",
        "\n",
        "En el campus se encuentran dos archivos en la carpeta “Ejemplos \n",
        "codificación”. Investíguelos con las herramientas vistas en clase. Puede usar \n",
        "también la herramienta hexdump para verlos por dentro.\n",
        "Pruebe intencionalmente abrir el archivo con la codificación equivocada (abra el \n",
        "UTF-8 como 8859-15) y compare las salidas."
      ]
    },
    {
      "cell_type": "code",
      "execution_count": null,
      "metadata": {
        "colab": {
          "base_uri": "https://localhost:8080/"
        },
        "id": "-tyojHEv4fQW",
        "outputId": "89400b44-31c4-4a39-ca3b-8ea326b07499"
      },
      "outputs": [
        {
          "name": "stdout",
          "output_type": "stream",
          "text": [
            "Cómo estas\n",
            "\n"
          ]
        }
      ],
      "source": [
        "# Abre el archivo en modo de lectura ('r') con la codificación ISO-8859-1\n",
        "with open('/content/EJEMPLO DE UTF-8.txt', 'r', encoding='UTF-8') as archivo:\n",
        "    # Lee todo el contenido del archivo\n",
        "    contenido = archivo.read()\n",
        "\n",
        "# Imprime el contenido del archivo\n",
        "print(contenido)"
      ]
    },
    {
      "cell_type": "markdown",
      "metadata": {
        "id": "iTnSUC2C60vN"
      },
      "source": [
        "# Ejercicio 1\n",
        "\n",
        "Con los archivos pedidos en diferentes formatos (pdf, jpg, ...otros) la \n",
        "clase anterior, extraiga la información que considere relevante de los mismos \n",
        "utilizando las librerías desarrolladas en clase.\n",
        "\n"
      ]
    },
    {
      "cell_type": "markdown",
      "metadata": {
        "id": "vfpwyaMhE4oC"
      },
      "source": [
        "i.  Obtenga texto de un libro escaneado en pdf (un pdf que no tenga el texto codificado como tal, es decir, que sea necesario usar ocr). Pruebe usando pytesseract en ingles (por defecto) y luego configurándolo en español.\n"
      ]
    },
    {
      "cell_type": "markdown",
      "metadata": {
        "id": "2hYIYoArGGZ7"
      },
      "source": [
        " ii. Obtenga texto de una imagen (png, bmp)."
      ]
    },
    {
      "cell_type": "markdown",
      "metadata": {},
      "source": [
        "iii.  Obtenga texto de un archivo word."
      ]
    },
    {
      "cell_type": "markdown",
      "metadata": {},
      "source": [
        "iv.  Obtenga texto de un archivo de audio."
      ]
    },
    {
      "cell_type": "markdown",
      "metadata": {
        "id": "lEYyGkgfE1ks"
      },
      "source": [
        "Opcional: Para las imágenes de facturas y recibos, extraiga información de los \n",
        "mismos con el objetivo de identificar los movimientos de gasto para el/los período/s \n",
        "a que se correspondan, y genere una salida por pantalla con un resumen para el \n",
        "total de movimientos."
      ]
    },
    {
      "cell_type": "code",
      "execution_count": null,
      "metadata": {
        "colab": {
          "base_uri": "https://localhost:8080/"
        },
        "id": "IUGXkJQs7fEL",
        "outputId": "bef0fb84-34ce-46d1-9ddc-403cdf8b0d60"
      },
      "outputs": [
        {
          "name": "stdout",
          "output_type": "stream",
          "text": [
            "Collecting PyPDF2\n",
            "  Downloading pypdf2-3.0.1-py3-none-any.whl (232 kB)\n",
            "\u001b[?25l     \u001b[90m━━━━━━━━━━━━━━━━━━━━━━━━━━━━━━━━━━━━━━━━\u001b[0m \u001b[32m0.0/232.6 kB\u001b[0m \u001b[31m?\u001b[0m eta \u001b[36m-:--:--\u001b[0m\r\u001b[2K     \u001b[91m━━━━━━━━━━━━━━━━━━━\u001b[0m\u001b[90m╺\u001b[0m\u001b[90m━━━━━━━━━━━━━━━━━━━━\u001b[0m \u001b[32m112.6/232.6 kB\u001b[0m \u001b[31m3.3 MB/s\u001b[0m eta \u001b[36m0:00:01\u001b[0m\r\u001b[2K     \u001b[90m━━━━━━━━━━━━━━━━━━━━━━━━━━━━━━━━━━━━━━━━\u001b[0m \u001b[32m232.6/232.6 kB\u001b[0m \u001b[31m4.3 MB/s\u001b[0m eta \u001b[36m0:00:00\u001b[0m\n",
            "\u001b[?25hInstalling collected packages: PyPDF2\n",
            "Successfully installed PyPDF2-3.0.1\n"
          ]
        }
      ],
      "source": [
        "!pip install PyPDF2\n"
      ]
    },
    {
      "cell_type": "code",
      "execution_count": null,
      "metadata": {
        "id": "rH8eT7BT8SPC"
      },
      "outputs": [],
      "source": [
        "import PyPDF2"
      ]
    },
    {
      "cell_type": "code",
      "execution_count": null,
      "metadata": {
        "id": "JtwYXSan69N7"
      },
      "outputs": [],
      "source": [
        "# Abre el archivo en modo binario de lectura ('rb')\n",
        "with open('/content/0_L-MONTE-2024-02-01-01.PDF', 'rb') as archivo:\n",
        "    # Crea un objeto PdfFileReader\n",
        "    lector = PyPDF2.PdfReader(archivo)\n",
        "\n",
        "    # Inicializa una cadena vacía para almacenar el texto\n",
        "    texto = ''\n",
        "\n",
        "    # Itera sobre todas las páginas del PDF\n",
        "    for i in range(len(lector.pages)):\n",
        "        # Obtiene la página\n",
        "        pagina = lector.pages[i]\n",
        "\n",
        "        # Extrae el texto de la página y lo añade a la cadena de texto\n",
        "        texto += pagina.extract_text ()\n",
        "\n",
        "# Imprime el texto extraído\n",
        "print(texto)"
      ]
    },
    {
      "cell_type": "code",
      "execution_count": null,
      "metadata": {
        "id": "50zJJsEJ9lGc"
      },
      "outputs": [],
      "source": [
        "# prompt: extra una palabra de \"texto\"\n",
        "\n",
        "# Extrae la primera palabra de \"texto\"\n",
        "primera_palabra = texto.split()[0]\n",
        "\n",
        "# Imprime la primera palabra\n",
        "print(primera_palabra)\n"
      ]
    }
  ],
  "metadata": {
    "colab": {
      "provenance": []
    },
    "kernelspec": {
      "display_name": "Python 3",
      "name": "python3"
    },
    "language_info": {
      "name": "python"
    }
  },
  "nbformat": 4,
  "nbformat_minor": 0
}
